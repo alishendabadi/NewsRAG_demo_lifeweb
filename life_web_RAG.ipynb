{
  "nbformat": 4,
  "nbformat_minor": 0,
  "metadata": {
    "colab": {
      "provenance": [],
      "gpuType": "T4"
    },
    "kernelspec": {
      "name": "python3",
      "display_name": "Python 3"
    },
    "language_info": {
      "name": "python"
    },
    "widgets": {
      "application/vnd.jupyter.widget-state+json": {
        "247d987073d24c93ae1ff11352b7a9a1": {
          "model_module": "@jupyter-widgets/controls",
          "model_name": "HBoxModel",
          "model_module_version": "1.5.0",
          "state": {
            "_dom_classes": [],
            "_model_module": "@jupyter-widgets/controls",
            "_model_module_version": "1.5.0",
            "_model_name": "HBoxModel",
            "_view_count": null,
            "_view_module": "@jupyter-widgets/controls",
            "_view_module_version": "1.5.0",
            "_view_name": "HBoxView",
            "box_style": "",
            "children": [
              "IPY_MODEL_61a53242d6d44238adaf1e56a9066fce",
              "IPY_MODEL_c60cb204bd204602abd2249d36a2c5ac",
              "IPY_MODEL_55bb2fe901ef43a8a71032cd73b4fa13"
            ],
            "layout": "IPY_MODEL_358a793f3da449a6b2a51392550c743c"
          }
        },
        "61a53242d6d44238adaf1e56a9066fce": {
          "model_module": "@jupyter-widgets/controls",
          "model_name": "HTMLModel",
          "model_module_version": "1.5.0",
          "state": {
            "_dom_classes": [],
            "_model_module": "@jupyter-widgets/controls",
            "_model_module_version": "1.5.0",
            "_model_name": "HTMLModel",
            "_view_count": null,
            "_view_module": "@jupyter-widgets/controls",
            "_view_module_version": "1.5.0",
            "_view_name": "HTMLView",
            "description": "",
            "description_tooltip": null,
            "layout": "IPY_MODEL_0b004e0c692440f3afc7fafd4da272ce",
            "placeholder": "​",
            "style": "IPY_MODEL_523365582f624ce1b365563435320262",
            "value": "modules.json: 100%"
          }
        },
        "c60cb204bd204602abd2249d36a2c5ac": {
          "model_module": "@jupyter-widgets/controls",
          "model_name": "FloatProgressModel",
          "model_module_version": "1.5.0",
          "state": {
            "_dom_classes": [],
            "_model_module": "@jupyter-widgets/controls",
            "_model_module_version": "1.5.0",
            "_model_name": "FloatProgressModel",
            "_view_count": null,
            "_view_module": "@jupyter-widgets/controls",
            "_view_module_version": "1.5.0",
            "_view_name": "ProgressView",
            "bar_style": "success",
            "description": "",
            "description_tooltip": null,
            "layout": "IPY_MODEL_9f0a96f708a64eefb0d3d6c0ce10a128",
            "max": 229,
            "min": 0,
            "orientation": "horizontal",
            "style": "IPY_MODEL_ee0f05c0ccc9455db136a6e2ab0dbd91",
            "value": 229
          }
        },
        "55bb2fe901ef43a8a71032cd73b4fa13": {
          "model_module": "@jupyter-widgets/controls",
          "model_name": "HTMLModel",
          "model_module_version": "1.5.0",
          "state": {
            "_dom_classes": [],
            "_model_module": "@jupyter-widgets/controls",
            "_model_module_version": "1.5.0",
            "_model_name": "HTMLModel",
            "_view_count": null,
            "_view_module": "@jupyter-widgets/controls",
            "_view_module_version": "1.5.0",
            "_view_name": "HTMLView",
            "description": "",
            "description_tooltip": null,
            "layout": "IPY_MODEL_50d0e06a64364c5e9ca61a8663c5e1e2",
            "placeholder": "​",
            "style": "IPY_MODEL_4228462d632d4054b8291e1527e812e2",
            "value": " 229/229 [00:00&lt;00:00, 24.7kB/s]"
          }
        },
        "358a793f3da449a6b2a51392550c743c": {
          "model_module": "@jupyter-widgets/base",
          "model_name": "LayoutModel",
          "model_module_version": "1.2.0",
          "state": {
            "_model_module": "@jupyter-widgets/base",
            "_model_module_version": "1.2.0",
            "_model_name": "LayoutModel",
            "_view_count": null,
            "_view_module": "@jupyter-widgets/base",
            "_view_module_version": "1.2.0",
            "_view_name": "LayoutView",
            "align_content": null,
            "align_items": null,
            "align_self": null,
            "border": null,
            "bottom": null,
            "display": null,
            "flex": null,
            "flex_flow": null,
            "grid_area": null,
            "grid_auto_columns": null,
            "grid_auto_flow": null,
            "grid_auto_rows": null,
            "grid_column": null,
            "grid_gap": null,
            "grid_row": null,
            "grid_template_areas": null,
            "grid_template_columns": null,
            "grid_template_rows": null,
            "height": null,
            "justify_content": null,
            "justify_items": null,
            "left": null,
            "margin": null,
            "max_height": null,
            "max_width": null,
            "min_height": null,
            "min_width": null,
            "object_fit": null,
            "object_position": null,
            "order": null,
            "overflow": null,
            "overflow_x": null,
            "overflow_y": null,
            "padding": null,
            "right": null,
            "top": null,
            "visibility": null,
            "width": null
          }
        },
        "0b004e0c692440f3afc7fafd4da272ce": {
          "model_module": "@jupyter-widgets/base",
          "model_name": "LayoutModel",
          "model_module_version": "1.2.0",
          "state": {
            "_model_module": "@jupyter-widgets/base",
            "_model_module_version": "1.2.0",
            "_model_name": "LayoutModel",
            "_view_count": null,
            "_view_module": "@jupyter-widgets/base",
            "_view_module_version": "1.2.0",
            "_view_name": "LayoutView",
            "align_content": null,
            "align_items": null,
            "align_self": null,
            "border": null,
            "bottom": null,
            "display": null,
            "flex": null,
            "flex_flow": null,
            "grid_area": null,
            "grid_auto_columns": null,
            "grid_auto_flow": null,
            "grid_auto_rows": null,
            "grid_column": null,
            "grid_gap": null,
            "grid_row": null,
            "grid_template_areas": null,
            "grid_template_columns": null,
            "grid_template_rows": null,
            "height": null,
            "justify_content": null,
            "justify_items": null,
            "left": null,
            "margin": null,
            "max_height": null,
            "max_width": null,
            "min_height": null,
            "min_width": null,
            "object_fit": null,
            "object_position": null,
            "order": null,
            "overflow": null,
            "overflow_x": null,
            "overflow_y": null,
            "padding": null,
            "right": null,
            "top": null,
            "visibility": null,
            "width": null
          }
        },
        "523365582f624ce1b365563435320262": {
          "model_module": "@jupyter-widgets/controls",
          "model_name": "DescriptionStyleModel",
          "model_module_version": "1.5.0",
          "state": {
            "_model_module": "@jupyter-widgets/controls",
            "_model_module_version": "1.5.0",
            "_model_name": "DescriptionStyleModel",
            "_view_count": null,
            "_view_module": "@jupyter-widgets/base",
            "_view_module_version": "1.2.0",
            "_view_name": "StyleView",
            "description_width": ""
          }
        },
        "9f0a96f708a64eefb0d3d6c0ce10a128": {
          "model_module": "@jupyter-widgets/base",
          "model_name": "LayoutModel",
          "model_module_version": "1.2.0",
          "state": {
            "_model_module": "@jupyter-widgets/base",
            "_model_module_version": "1.2.0",
            "_model_name": "LayoutModel",
            "_view_count": null,
            "_view_module": "@jupyter-widgets/base",
            "_view_module_version": "1.2.0",
            "_view_name": "LayoutView",
            "align_content": null,
            "align_items": null,
            "align_self": null,
            "border": null,
            "bottom": null,
            "display": null,
            "flex": null,
            "flex_flow": null,
            "grid_area": null,
            "grid_auto_columns": null,
            "grid_auto_flow": null,
            "grid_auto_rows": null,
            "grid_column": null,
            "grid_gap": null,
            "grid_row": null,
            "grid_template_areas": null,
            "grid_template_columns": null,
            "grid_template_rows": null,
            "height": null,
            "justify_content": null,
            "justify_items": null,
            "left": null,
            "margin": null,
            "max_height": null,
            "max_width": null,
            "min_height": null,
            "min_width": null,
            "object_fit": null,
            "object_position": null,
            "order": null,
            "overflow": null,
            "overflow_x": null,
            "overflow_y": null,
            "padding": null,
            "right": null,
            "top": null,
            "visibility": null,
            "width": null
          }
        },
        "ee0f05c0ccc9455db136a6e2ab0dbd91": {
          "model_module": "@jupyter-widgets/controls",
          "model_name": "ProgressStyleModel",
          "model_module_version": "1.5.0",
          "state": {
            "_model_module": "@jupyter-widgets/controls",
            "_model_module_version": "1.5.0",
            "_model_name": "ProgressStyleModel",
            "_view_count": null,
            "_view_module": "@jupyter-widgets/base",
            "_view_module_version": "1.2.0",
            "_view_name": "StyleView",
            "bar_color": null,
            "description_width": ""
          }
        },
        "50d0e06a64364c5e9ca61a8663c5e1e2": {
          "model_module": "@jupyter-widgets/base",
          "model_name": "LayoutModel",
          "model_module_version": "1.2.0",
          "state": {
            "_model_module": "@jupyter-widgets/base",
            "_model_module_version": "1.2.0",
            "_model_name": "LayoutModel",
            "_view_count": null,
            "_view_module": "@jupyter-widgets/base",
            "_view_module_version": "1.2.0",
            "_view_name": "LayoutView",
            "align_content": null,
            "align_items": null,
            "align_self": null,
            "border": null,
            "bottom": null,
            "display": null,
            "flex": null,
            "flex_flow": null,
            "grid_area": null,
            "grid_auto_columns": null,
            "grid_auto_flow": null,
            "grid_auto_rows": null,
            "grid_column": null,
            "grid_gap": null,
            "grid_row": null,
            "grid_template_areas": null,
            "grid_template_columns": null,
            "grid_template_rows": null,
            "height": null,
            "justify_content": null,
            "justify_items": null,
            "left": null,
            "margin": null,
            "max_height": null,
            "max_width": null,
            "min_height": null,
            "min_width": null,
            "object_fit": null,
            "object_position": null,
            "order": null,
            "overflow": null,
            "overflow_x": null,
            "overflow_y": null,
            "padding": null,
            "right": null,
            "top": null,
            "visibility": null,
            "width": null
          }
        },
        "4228462d632d4054b8291e1527e812e2": {
          "model_module": "@jupyter-widgets/controls",
          "model_name": "DescriptionStyleModel",
          "model_module_version": "1.5.0",
          "state": {
            "_model_module": "@jupyter-widgets/controls",
            "_model_module_version": "1.5.0",
            "_model_name": "DescriptionStyleModel",
            "_view_count": null,
            "_view_module": "@jupyter-widgets/base",
            "_view_module_version": "1.2.0",
            "_view_name": "StyleView",
            "description_width": ""
          }
        },
        "59dc42950f36474e865c829876a50762": {
          "model_module": "@jupyter-widgets/controls",
          "model_name": "HBoxModel",
          "model_module_version": "1.5.0",
          "state": {
            "_dom_classes": [],
            "_model_module": "@jupyter-widgets/controls",
            "_model_module_version": "1.5.0",
            "_model_name": "HBoxModel",
            "_view_count": null,
            "_view_module": "@jupyter-widgets/controls",
            "_view_module_version": "1.5.0",
            "_view_name": "HBoxView",
            "box_style": "",
            "children": [
              "IPY_MODEL_30a48b58dd284ae9b2bac9cd58092131",
              "IPY_MODEL_c63a4ea9c1184a88a8eb572612b41d0e",
              "IPY_MODEL_b4712e1996db41b791f718e6113e0044"
            ],
            "layout": "IPY_MODEL_8aa70f6d9eb0439a82e576300e71289d"
          }
        },
        "30a48b58dd284ae9b2bac9cd58092131": {
          "model_module": "@jupyter-widgets/controls",
          "model_name": "HTMLModel",
          "model_module_version": "1.5.0",
          "state": {
            "_dom_classes": [],
            "_model_module": "@jupyter-widgets/controls",
            "_model_module_version": "1.5.0",
            "_model_name": "HTMLModel",
            "_view_count": null,
            "_view_module": "@jupyter-widgets/controls",
            "_view_module_version": "1.5.0",
            "_view_name": "HTMLView",
            "description": "",
            "description_tooltip": null,
            "layout": "IPY_MODEL_3524d40ad7924eb9acab53d1dbf71074",
            "placeholder": "​",
            "style": "IPY_MODEL_0be68ee928ed48fb84cfc6654c7fa668",
            "value": "README.md: 100%"
          }
        },
        "c63a4ea9c1184a88a8eb572612b41d0e": {
          "model_module": "@jupyter-widgets/controls",
          "model_name": "FloatProgressModel",
          "model_module_version": "1.5.0",
          "state": {
            "_dom_classes": [],
            "_model_module": "@jupyter-widgets/controls",
            "_model_module_version": "1.5.0",
            "_model_name": "FloatProgressModel",
            "_view_count": null,
            "_view_module": "@jupyter-widgets/controls",
            "_view_module_version": "1.5.0",
            "_view_name": "ProgressView",
            "bar_style": "success",
            "description": "",
            "description_tooltip": null,
            "layout": "IPY_MODEL_176665783cbf4899b83a38e9df73aa42",
            "max": 3059,
            "min": 0,
            "orientation": "horizontal",
            "style": "IPY_MODEL_ad8989e1226b4034815c6d1c345d00fb",
            "value": 3059
          }
        },
        "b4712e1996db41b791f718e6113e0044": {
          "model_module": "@jupyter-widgets/controls",
          "model_name": "HTMLModel",
          "model_module_version": "1.5.0",
          "state": {
            "_dom_classes": [],
            "_model_module": "@jupyter-widgets/controls",
            "_model_module_version": "1.5.0",
            "_model_name": "HTMLModel",
            "_view_count": null,
            "_view_module": "@jupyter-widgets/controls",
            "_view_module_version": "1.5.0",
            "_view_name": "HTMLView",
            "description": "",
            "description_tooltip": null,
            "layout": "IPY_MODEL_4def64d01914414689c0ec60d21809ca",
            "placeholder": "​",
            "style": "IPY_MODEL_8c35eee28aaa40bbbeaf84e0ee109cf8",
            "value": " 3.06k/3.06k [00:00&lt;00:00, 220kB/s]"
          }
        },
        "8aa70f6d9eb0439a82e576300e71289d": {
          "model_module": "@jupyter-widgets/base",
          "model_name": "LayoutModel",
          "model_module_version": "1.2.0",
          "state": {
            "_model_module": "@jupyter-widgets/base",
            "_model_module_version": "1.2.0",
            "_model_name": "LayoutModel",
            "_view_count": null,
            "_view_module": "@jupyter-widgets/base",
            "_view_module_version": "1.2.0",
            "_view_name": "LayoutView",
            "align_content": null,
            "align_items": null,
            "align_self": null,
            "border": null,
            "bottom": null,
            "display": null,
            "flex": null,
            "flex_flow": null,
            "grid_area": null,
            "grid_auto_columns": null,
            "grid_auto_flow": null,
            "grid_auto_rows": null,
            "grid_column": null,
            "grid_gap": null,
            "grid_row": null,
            "grid_template_areas": null,
            "grid_template_columns": null,
            "grid_template_rows": null,
            "height": null,
            "justify_content": null,
            "justify_items": null,
            "left": null,
            "margin": null,
            "max_height": null,
            "max_width": null,
            "min_height": null,
            "min_width": null,
            "object_fit": null,
            "object_position": null,
            "order": null,
            "overflow": null,
            "overflow_x": null,
            "overflow_y": null,
            "padding": null,
            "right": null,
            "top": null,
            "visibility": null,
            "width": null
          }
        },
        "3524d40ad7924eb9acab53d1dbf71074": {
          "model_module": "@jupyter-widgets/base",
          "model_name": "LayoutModel",
          "model_module_version": "1.2.0",
          "state": {
            "_model_module": "@jupyter-widgets/base",
            "_model_module_version": "1.2.0",
            "_model_name": "LayoutModel",
            "_view_count": null,
            "_view_module": "@jupyter-widgets/base",
            "_view_module_version": "1.2.0",
            "_view_name": "LayoutView",
            "align_content": null,
            "align_items": null,
            "align_self": null,
            "border": null,
            "bottom": null,
            "display": null,
            "flex": null,
            "flex_flow": null,
            "grid_area": null,
            "grid_auto_columns": null,
            "grid_auto_flow": null,
            "grid_auto_rows": null,
            "grid_column": null,
            "grid_gap": null,
            "grid_row": null,
            "grid_template_areas": null,
            "grid_template_columns": null,
            "grid_template_rows": null,
            "height": null,
            "justify_content": null,
            "justify_items": null,
            "left": null,
            "margin": null,
            "max_height": null,
            "max_width": null,
            "min_height": null,
            "min_width": null,
            "object_fit": null,
            "object_position": null,
            "order": null,
            "overflow": null,
            "overflow_x": null,
            "overflow_y": null,
            "padding": null,
            "right": null,
            "top": null,
            "visibility": null,
            "width": null
          }
        },
        "0be68ee928ed48fb84cfc6654c7fa668": {
          "model_module": "@jupyter-widgets/controls",
          "model_name": "DescriptionStyleModel",
          "model_module_version": "1.5.0",
          "state": {
            "_model_module": "@jupyter-widgets/controls",
            "_model_module_version": "1.5.0",
            "_model_name": "DescriptionStyleModel",
            "_view_count": null,
            "_view_module": "@jupyter-widgets/base",
            "_view_module_version": "1.2.0",
            "_view_name": "StyleView",
            "description_width": ""
          }
        },
        "176665783cbf4899b83a38e9df73aa42": {
          "model_module": "@jupyter-widgets/base",
          "model_name": "LayoutModel",
          "model_module_version": "1.2.0",
          "state": {
            "_model_module": "@jupyter-widgets/base",
            "_model_module_version": "1.2.0",
            "_model_name": "LayoutModel",
            "_view_count": null,
            "_view_module": "@jupyter-widgets/base",
            "_view_module_version": "1.2.0",
            "_view_name": "LayoutView",
            "align_content": null,
            "align_items": null,
            "align_self": null,
            "border": null,
            "bottom": null,
            "display": null,
            "flex": null,
            "flex_flow": null,
            "grid_area": null,
            "grid_auto_columns": null,
            "grid_auto_flow": null,
            "grid_auto_rows": null,
            "grid_column": null,
            "grid_gap": null,
            "grid_row": null,
            "grid_template_areas": null,
            "grid_template_columns": null,
            "grid_template_rows": null,
            "height": null,
            "justify_content": null,
            "justify_items": null,
            "left": null,
            "margin": null,
            "max_height": null,
            "max_width": null,
            "min_height": null,
            "min_width": null,
            "object_fit": null,
            "object_position": null,
            "order": null,
            "overflow": null,
            "overflow_x": null,
            "overflow_y": null,
            "padding": null,
            "right": null,
            "top": null,
            "visibility": null,
            "width": null
          }
        },
        "ad8989e1226b4034815c6d1c345d00fb": {
          "model_module": "@jupyter-widgets/controls",
          "model_name": "ProgressStyleModel",
          "model_module_version": "1.5.0",
          "state": {
            "_model_module": "@jupyter-widgets/controls",
            "_model_module_version": "1.5.0",
            "_model_name": "ProgressStyleModel",
            "_view_count": null,
            "_view_module": "@jupyter-widgets/base",
            "_view_module_version": "1.2.0",
            "_view_name": "StyleView",
            "bar_color": null,
            "description_width": ""
          }
        },
        "4def64d01914414689c0ec60d21809ca": {
          "model_module": "@jupyter-widgets/base",
          "model_name": "LayoutModel",
          "model_module_version": "1.2.0",
          "state": {
            "_model_module": "@jupyter-widgets/base",
            "_model_module_version": "1.2.0",
            "_model_name": "LayoutModel",
            "_view_count": null,
            "_view_module": "@jupyter-widgets/base",
            "_view_module_version": "1.2.0",
            "_view_name": "LayoutView",
            "align_content": null,
            "align_items": null,
            "align_self": null,
            "border": null,
            "bottom": null,
            "display": null,
            "flex": null,
            "flex_flow": null,
            "grid_area": null,
            "grid_auto_columns": null,
            "grid_auto_flow": null,
            "grid_auto_rows": null,
            "grid_column": null,
            "grid_gap": null,
            "grid_row": null,
            "grid_template_areas": null,
            "grid_template_columns": null,
            "grid_template_rows": null,
            "height": null,
            "justify_content": null,
            "justify_items": null,
            "left": null,
            "margin": null,
            "max_height": null,
            "max_width": null,
            "min_height": null,
            "min_width": null,
            "object_fit": null,
            "object_position": null,
            "order": null,
            "overflow": null,
            "overflow_x": null,
            "overflow_y": null,
            "padding": null,
            "right": null,
            "top": null,
            "visibility": null,
            "width": null
          }
        },
        "8c35eee28aaa40bbbeaf84e0ee109cf8": {
          "model_module": "@jupyter-widgets/controls",
          "model_name": "DescriptionStyleModel",
          "model_module_version": "1.5.0",
          "state": {
            "_model_module": "@jupyter-widgets/controls",
            "_model_module_version": "1.5.0",
            "_model_name": "DescriptionStyleModel",
            "_view_count": null,
            "_view_module": "@jupyter-widgets/base",
            "_view_module_version": "1.2.0",
            "_view_name": "StyleView",
            "description_width": ""
          }
        },
        "672da514b853428caae67f09b9cd67b0": {
          "model_module": "@jupyter-widgets/controls",
          "model_name": "HBoxModel",
          "model_module_version": "1.5.0",
          "state": {
            "_dom_classes": [],
            "_model_module": "@jupyter-widgets/controls",
            "_model_module_version": "1.5.0",
            "_model_name": "HBoxModel",
            "_view_count": null,
            "_view_module": "@jupyter-widgets/controls",
            "_view_module_version": "1.5.0",
            "_view_name": "HBoxView",
            "box_style": "",
            "children": [
              "IPY_MODEL_303e1032e20847b598fbe9c9e63a30c7",
              "IPY_MODEL_c5f0e3dc32814d579a16759d4c57cef1",
              "IPY_MODEL_1c1bd47b6a3c478f98f945fc52136b0f"
            ],
            "layout": "IPY_MODEL_171578cd8dd5449e805490fd368eb5bb"
          }
        },
        "303e1032e20847b598fbe9c9e63a30c7": {
          "model_module": "@jupyter-widgets/controls",
          "model_name": "HTMLModel",
          "model_module_version": "1.5.0",
          "state": {
            "_dom_classes": [],
            "_model_module": "@jupyter-widgets/controls",
            "_model_module_version": "1.5.0",
            "_model_name": "HTMLModel",
            "_view_count": null,
            "_view_module": "@jupyter-widgets/controls",
            "_view_module_version": "1.5.0",
            "_view_name": "HTMLView",
            "description": "",
            "description_tooltip": null,
            "layout": "IPY_MODEL_55fb35ea2d034686b6d0d8f03b25bd31",
            "placeholder": "​",
            "style": "IPY_MODEL_c3bdb0a8a31c4f17bb531a8a071bf0b8",
            "value": "config.json: 100%"
          }
        },
        "c5f0e3dc32814d579a16759d4c57cef1": {
          "model_module": "@jupyter-widgets/controls",
          "model_name": "FloatProgressModel",
          "model_module_version": "1.5.0",
          "state": {
            "_dom_classes": [],
            "_model_module": "@jupyter-widgets/controls",
            "_model_module_version": "1.5.0",
            "_model_name": "FloatProgressModel",
            "_view_count": null,
            "_view_module": "@jupyter-widgets/controls",
            "_view_module_version": "1.5.0",
            "_view_name": "ProgressView",
            "bar_style": "success",
            "description": "",
            "description_tooltip": null,
            "layout": "IPY_MODEL_34ad91dcfaa84807aafb4c24f5a53768",
            "max": 707,
            "min": 0,
            "orientation": "horizontal",
            "style": "IPY_MODEL_d5d7f510f2c041c7a838482eb0980253",
            "value": 707
          }
        },
        "1c1bd47b6a3c478f98f945fc52136b0f": {
          "model_module": "@jupyter-widgets/controls",
          "model_name": "HTMLModel",
          "model_module_version": "1.5.0",
          "state": {
            "_dom_classes": [],
            "_model_module": "@jupyter-widgets/controls",
            "_model_module_version": "1.5.0",
            "_model_name": "HTMLModel",
            "_view_count": null,
            "_view_module": "@jupyter-widgets/controls",
            "_view_module_version": "1.5.0",
            "_view_name": "HTMLView",
            "description": "",
            "description_tooltip": null,
            "layout": "IPY_MODEL_f70e5507cfee45caa7bbbb2f68a5c312",
            "placeholder": "​",
            "style": "IPY_MODEL_fb8998df3318415bb1a8b67feae9ad88",
            "value": " 707/707 [00:00&lt;00:00, 44.2kB/s]"
          }
        },
        "171578cd8dd5449e805490fd368eb5bb": {
          "model_module": "@jupyter-widgets/base",
          "model_name": "LayoutModel",
          "model_module_version": "1.2.0",
          "state": {
            "_model_module": "@jupyter-widgets/base",
            "_model_module_version": "1.2.0",
            "_model_name": "LayoutModel",
            "_view_count": null,
            "_view_module": "@jupyter-widgets/base",
            "_view_module_version": "1.2.0",
            "_view_name": "LayoutView",
            "align_content": null,
            "align_items": null,
            "align_self": null,
            "border": null,
            "bottom": null,
            "display": null,
            "flex": null,
            "flex_flow": null,
            "grid_area": null,
            "grid_auto_columns": null,
            "grid_auto_flow": null,
            "grid_auto_rows": null,
            "grid_column": null,
            "grid_gap": null,
            "grid_row": null,
            "grid_template_areas": null,
            "grid_template_columns": null,
            "grid_template_rows": null,
            "height": null,
            "justify_content": null,
            "justify_items": null,
            "left": null,
            "margin": null,
            "max_height": null,
            "max_width": null,
            "min_height": null,
            "min_width": null,
            "object_fit": null,
            "object_position": null,
            "order": null,
            "overflow": null,
            "overflow_x": null,
            "overflow_y": null,
            "padding": null,
            "right": null,
            "top": null,
            "visibility": null,
            "width": null
          }
        },
        "55fb35ea2d034686b6d0d8f03b25bd31": {
          "model_module": "@jupyter-widgets/base",
          "model_name": "LayoutModel",
          "model_module_version": "1.2.0",
          "state": {
            "_model_module": "@jupyter-widgets/base",
            "_model_module_version": "1.2.0",
            "_model_name": "LayoutModel",
            "_view_count": null,
            "_view_module": "@jupyter-widgets/base",
            "_view_module_version": "1.2.0",
            "_view_name": "LayoutView",
            "align_content": null,
            "align_items": null,
            "align_self": null,
            "border": null,
            "bottom": null,
            "display": null,
            "flex": null,
            "flex_flow": null,
            "grid_area": null,
            "grid_auto_columns": null,
            "grid_auto_flow": null,
            "grid_auto_rows": null,
            "grid_column": null,
            "grid_gap": null,
            "grid_row": null,
            "grid_template_areas": null,
            "grid_template_columns": null,
            "grid_template_rows": null,
            "height": null,
            "justify_content": null,
            "justify_items": null,
            "left": null,
            "margin": null,
            "max_height": null,
            "max_width": null,
            "min_height": null,
            "min_width": null,
            "object_fit": null,
            "object_position": null,
            "order": null,
            "overflow": null,
            "overflow_x": null,
            "overflow_y": null,
            "padding": null,
            "right": null,
            "top": null,
            "visibility": null,
            "width": null
          }
        },
        "c3bdb0a8a31c4f17bb531a8a071bf0b8": {
          "model_module": "@jupyter-widgets/controls",
          "model_name": "DescriptionStyleModel",
          "model_module_version": "1.5.0",
          "state": {
            "_model_module": "@jupyter-widgets/controls",
            "_model_module_version": "1.5.0",
            "_model_name": "DescriptionStyleModel",
            "_view_count": null,
            "_view_module": "@jupyter-widgets/base",
            "_view_module_version": "1.2.0",
            "_view_name": "StyleView",
            "description_width": ""
          }
        },
        "34ad91dcfaa84807aafb4c24f5a53768": {
          "model_module": "@jupyter-widgets/base",
          "model_name": "LayoutModel",
          "model_module_version": "1.2.0",
          "state": {
            "_model_module": "@jupyter-widgets/base",
            "_model_module_version": "1.2.0",
            "_model_name": "LayoutModel",
            "_view_count": null,
            "_view_module": "@jupyter-widgets/base",
            "_view_module_version": "1.2.0",
            "_view_name": "LayoutView",
            "align_content": null,
            "align_items": null,
            "align_self": null,
            "border": null,
            "bottom": null,
            "display": null,
            "flex": null,
            "flex_flow": null,
            "grid_area": null,
            "grid_auto_columns": null,
            "grid_auto_flow": null,
            "grid_auto_rows": null,
            "grid_column": null,
            "grid_gap": null,
            "grid_row": null,
            "grid_template_areas": null,
            "grid_template_columns": null,
            "grid_template_rows": null,
            "height": null,
            "justify_content": null,
            "justify_items": null,
            "left": null,
            "margin": null,
            "max_height": null,
            "max_width": null,
            "min_height": null,
            "min_width": null,
            "object_fit": null,
            "object_position": null,
            "order": null,
            "overflow": null,
            "overflow_x": null,
            "overflow_y": null,
            "padding": null,
            "right": null,
            "top": null,
            "visibility": null,
            "width": null
          }
        },
        "d5d7f510f2c041c7a838482eb0980253": {
          "model_module": "@jupyter-widgets/controls",
          "model_name": "ProgressStyleModel",
          "model_module_version": "1.5.0",
          "state": {
            "_model_module": "@jupyter-widgets/controls",
            "_model_module_version": "1.5.0",
            "_model_name": "ProgressStyleModel",
            "_view_count": null,
            "_view_module": "@jupyter-widgets/base",
            "_view_module_version": "1.2.0",
            "_view_name": "StyleView",
            "bar_color": null,
            "description_width": ""
          }
        },
        "f70e5507cfee45caa7bbbb2f68a5c312": {
          "model_module": "@jupyter-widgets/base",
          "model_name": "LayoutModel",
          "model_module_version": "1.2.0",
          "state": {
            "_model_module": "@jupyter-widgets/base",
            "_model_module_version": "1.2.0",
            "_model_name": "LayoutModel",
            "_view_count": null,
            "_view_module": "@jupyter-widgets/base",
            "_view_module_version": "1.2.0",
            "_view_name": "LayoutView",
            "align_content": null,
            "align_items": null,
            "align_self": null,
            "border": null,
            "bottom": null,
            "display": null,
            "flex": null,
            "flex_flow": null,
            "grid_area": null,
            "grid_auto_columns": null,
            "grid_auto_flow": null,
            "grid_auto_rows": null,
            "grid_column": null,
            "grid_gap": null,
            "grid_row": null,
            "grid_template_areas": null,
            "grid_template_columns": null,
            "grid_template_rows": null,
            "height": null,
            "justify_content": null,
            "justify_items": null,
            "left": null,
            "margin": null,
            "max_height": null,
            "max_width": null,
            "min_height": null,
            "min_width": null,
            "object_fit": null,
            "object_position": null,
            "order": null,
            "overflow": null,
            "overflow_x": null,
            "overflow_y": null,
            "padding": null,
            "right": null,
            "top": null,
            "visibility": null,
            "width": null
          }
        },
        "fb8998df3318415bb1a8b67feae9ad88": {
          "model_module": "@jupyter-widgets/controls",
          "model_name": "DescriptionStyleModel",
          "model_module_version": "1.5.0",
          "state": {
            "_model_module": "@jupyter-widgets/controls",
            "_model_module_version": "1.5.0",
            "_model_name": "DescriptionStyleModel",
            "_view_count": null,
            "_view_module": "@jupyter-widgets/base",
            "_view_module_version": "1.2.0",
            "_view_name": "StyleView",
            "description_width": ""
          }
        },
        "b16ed502256445ac9fbba017406a811b": {
          "model_module": "@jupyter-widgets/controls",
          "model_name": "HBoxModel",
          "model_module_version": "1.5.0",
          "state": {
            "_dom_classes": [],
            "_model_module": "@jupyter-widgets/controls",
            "_model_module_version": "1.5.0",
            "_model_name": "HBoxModel",
            "_view_count": null,
            "_view_module": "@jupyter-widgets/controls",
            "_view_module_version": "1.5.0",
            "_view_name": "HBoxView",
            "box_style": "",
            "children": [
              "IPY_MODEL_4cfa7af48976449eaae6d2761617ef94",
              "IPY_MODEL_127e04e5930049509bad587b35e2b30f",
              "IPY_MODEL_fe0d62a848e74e4a8d849eb4ab66bcd3"
            ],
            "layout": "IPY_MODEL_ae0eee7b34084fe5bbba6b9f88c1b348"
          }
        },
        "4cfa7af48976449eaae6d2761617ef94": {
          "model_module": "@jupyter-widgets/controls",
          "model_name": "HTMLModel",
          "model_module_version": "1.5.0",
          "state": {
            "_dom_classes": [],
            "_model_module": "@jupyter-widgets/controls",
            "_model_module_version": "1.5.0",
            "_model_name": "HTMLModel",
            "_view_count": null,
            "_view_module": "@jupyter-widgets/controls",
            "_view_module_version": "1.5.0",
            "_view_name": "HTMLView",
            "description": "",
            "description_tooltip": null,
            "layout": "IPY_MODEL_ef252024aa1540fdb651b8a2e3b31239",
            "placeholder": "​",
            "style": "IPY_MODEL_5f44de18f40c450996c9f358404513fd",
            "value": "model.safetensors: 100%"
          }
        },
        "127e04e5930049509bad587b35e2b30f": {
          "model_module": "@jupyter-widgets/controls",
          "model_name": "FloatProgressModel",
          "model_module_version": "1.5.0",
          "state": {
            "_dom_classes": [],
            "_model_module": "@jupyter-widgets/controls",
            "_model_module_version": "1.5.0",
            "_model_name": "FloatProgressModel",
            "_view_count": null,
            "_view_module": "@jupyter-widgets/controls",
            "_view_module_version": "1.5.0",
            "_view_name": "ProgressView",
            "bar_style": "success",
            "description": "",
            "description_tooltip": null,
            "layout": "IPY_MODEL_f9c2e99709a8456f839695d616ca2bdf",
            "max": 2239607176,
            "min": 0,
            "orientation": "horizontal",
            "style": "IPY_MODEL_55b26555a7244d0a85708e99d4454de8",
            "value": 2239607176
          }
        },
        "fe0d62a848e74e4a8d849eb4ab66bcd3": {
          "model_module": "@jupyter-widgets/controls",
          "model_name": "HTMLModel",
          "model_module_version": "1.5.0",
          "state": {
            "_dom_classes": [],
            "_model_module": "@jupyter-widgets/controls",
            "_model_module_version": "1.5.0",
            "_model_name": "HTMLModel",
            "_view_count": null,
            "_view_module": "@jupyter-widgets/controls",
            "_view_module_version": "1.5.0",
            "_view_name": "HTMLView",
            "description": "",
            "description_tooltip": null,
            "layout": "IPY_MODEL_867cb6c6d118434bbd14b21c2257019d",
            "placeholder": "​",
            "style": "IPY_MODEL_bdd15aa15b814d77a4268e90f3ac3dfd",
            "value": " 2.24G/2.24G [00:11&lt;00:00, 230MB/s]"
          }
        },
        "ae0eee7b34084fe5bbba6b9f88c1b348": {
          "model_module": "@jupyter-widgets/base",
          "model_name": "LayoutModel",
          "model_module_version": "1.2.0",
          "state": {
            "_model_module": "@jupyter-widgets/base",
            "_model_module_version": "1.2.0",
            "_model_name": "LayoutModel",
            "_view_count": null,
            "_view_module": "@jupyter-widgets/base",
            "_view_module_version": "1.2.0",
            "_view_name": "LayoutView",
            "align_content": null,
            "align_items": null,
            "align_self": null,
            "border": null,
            "bottom": null,
            "display": null,
            "flex": null,
            "flex_flow": null,
            "grid_area": null,
            "grid_auto_columns": null,
            "grid_auto_flow": null,
            "grid_auto_rows": null,
            "grid_column": null,
            "grid_gap": null,
            "grid_row": null,
            "grid_template_areas": null,
            "grid_template_columns": null,
            "grid_template_rows": null,
            "height": null,
            "justify_content": null,
            "justify_items": null,
            "left": null,
            "margin": null,
            "max_height": null,
            "max_width": null,
            "min_height": null,
            "min_width": null,
            "object_fit": null,
            "object_position": null,
            "order": null,
            "overflow": null,
            "overflow_x": null,
            "overflow_y": null,
            "padding": null,
            "right": null,
            "top": null,
            "visibility": null,
            "width": null
          }
        },
        "ef252024aa1540fdb651b8a2e3b31239": {
          "model_module": "@jupyter-widgets/base",
          "model_name": "LayoutModel",
          "model_module_version": "1.2.0",
          "state": {
            "_model_module": "@jupyter-widgets/base",
            "_model_module_version": "1.2.0",
            "_model_name": "LayoutModel",
            "_view_count": null,
            "_view_module": "@jupyter-widgets/base",
            "_view_module_version": "1.2.0",
            "_view_name": "LayoutView",
            "align_content": null,
            "align_items": null,
            "align_self": null,
            "border": null,
            "bottom": null,
            "display": null,
            "flex": null,
            "flex_flow": null,
            "grid_area": null,
            "grid_auto_columns": null,
            "grid_auto_flow": null,
            "grid_auto_rows": null,
            "grid_column": null,
            "grid_gap": null,
            "grid_row": null,
            "grid_template_areas": null,
            "grid_template_columns": null,
            "grid_template_rows": null,
            "height": null,
            "justify_content": null,
            "justify_items": null,
            "left": null,
            "margin": null,
            "max_height": null,
            "max_width": null,
            "min_height": null,
            "min_width": null,
            "object_fit": null,
            "object_position": null,
            "order": null,
            "overflow": null,
            "overflow_x": null,
            "overflow_y": null,
            "padding": null,
            "right": null,
            "top": null,
            "visibility": null,
            "width": null
          }
        },
        "5f44de18f40c450996c9f358404513fd": {
          "model_module": "@jupyter-widgets/controls",
          "model_name": "DescriptionStyleModel",
          "model_module_version": "1.5.0",
          "state": {
            "_model_module": "@jupyter-widgets/controls",
            "_model_module_version": "1.5.0",
            "_model_name": "DescriptionStyleModel",
            "_view_count": null,
            "_view_module": "@jupyter-widgets/base",
            "_view_module_version": "1.2.0",
            "_view_name": "StyleView",
            "description_width": ""
          }
        },
        "f9c2e99709a8456f839695d616ca2bdf": {
          "model_module": "@jupyter-widgets/base",
          "model_name": "LayoutModel",
          "model_module_version": "1.2.0",
          "state": {
            "_model_module": "@jupyter-widgets/base",
            "_model_module_version": "1.2.0",
            "_model_name": "LayoutModel",
            "_view_count": null,
            "_view_module": "@jupyter-widgets/base",
            "_view_module_version": "1.2.0",
            "_view_name": "LayoutView",
            "align_content": null,
            "align_items": null,
            "align_self": null,
            "border": null,
            "bottom": null,
            "display": null,
            "flex": null,
            "flex_flow": null,
            "grid_area": null,
            "grid_auto_columns": null,
            "grid_auto_flow": null,
            "grid_auto_rows": null,
            "grid_column": null,
            "grid_gap": null,
            "grid_row": null,
            "grid_template_areas": null,
            "grid_template_columns": null,
            "grid_template_rows": null,
            "height": null,
            "justify_content": null,
            "justify_items": null,
            "left": null,
            "margin": null,
            "max_height": null,
            "max_width": null,
            "min_height": null,
            "min_width": null,
            "object_fit": null,
            "object_position": null,
            "order": null,
            "overflow": null,
            "overflow_x": null,
            "overflow_y": null,
            "padding": null,
            "right": null,
            "top": null,
            "visibility": null,
            "width": null
          }
        },
        "55b26555a7244d0a85708e99d4454de8": {
          "model_module": "@jupyter-widgets/controls",
          "model_name": "ProgressStyleModel",
          "model_module_version": "1.5.0",
          "state": {
            "_model_module": "@jupyter-widgets/controls",
            "_model_module_version": "1.5.0",
            "_model_name": "ProgressStyleModel",
            "_view_count": null,
            "_view_module": "@jupyter-widgets/base",
            "_view_module_version": "1.2.0",
            "_view_name": "StyleView",
            "bar_color": null,
            "description_width": ""
          }
        },
        "867cb6c6d118434bbd14b21c2257019d": {
          "model_module": "@jupyter-widgets/base",
          "model_name": "LayoutModel",
          "model_module_version": "1.2.0",
          "state": {
            "_model_module": "@jupyter-widgets/base",
            "_model_module_version": "1.2.0",
            "_model_name": "LayoutModel",
            "_view_count": null,
            "_view_module": "@jupyter-widgets/base",
            "_view_module_version": "1.2.0",
            "_view_name": "LayoutView",
            "align_content": null,
            "align_items": null,
            "align_self": null,
            "border": null,
            "bottom": null,
            "display": null,
            "flex": null,
            "flex_flow": null,
            "grid_area": null,
            "grid_auto_columns": null,
            "grid_auto_flow": null,
            "grid_auto_rows": null,
            "grid_column": null,
            "grid_gap": null,
            "grid_row": null,
            "grid_template_areas": null,
            "grid_template_columns": null,
            "grid_template_rows": null,
            "height": null,
            "justify_content": null,
            "justify_items": null,
            "left": null,
            "margin": null,
            "max_height": null,
            "max_width": null,
            "min_height": null,
            "min_width": null,
            "object_fit": null,
            "object_position": null,
            "order": null,
            "overflow": null,
            "overflow_x": null,
            "overflow_y": null,
            "padding": null,
            "right": null,
            "top": null,
            "visibility": null,
            "width": null
          }
        },
        "bdd15aa15b814d77a4268e90f3ac3dfd": {
          "model_module": "@jupyter-widgets/controls",
          "model_name": "DescriptionStyleModel",
          "model_module_version": "1.5.0",
          "state": {
            "_model_module": "@jupyter-widgets/controls",
            "_model_module_version": "1.5.0",
            "_model_name": "DescriptionStyleModel",
            "_view_count": null,
            "_view_module": "@jupyter-widgets/base",
            "_view_module_version": "1.2.0",
            "_view_name": "StyleView",
            "description_width": ""
          }
        },
        "f651943702034643bde4608c52882b91": {
          "model_module": "@jupyter-widgets/controls",
          "model_name": "HBoxModel",
          "model_module_version": "1.5.0",
          "state": {
            "_dom_classes": [],
            "_model_module": "@jupyter-widgets/controls",
            "_model_module_version": "1.5.0",
            "_model_name": "HBoxModel",
            "_view_count": null,
            "_view_module": "@jupyter-widgets/controls",
            "_view_module_version": "1.5.0",
            "_view_name": "HBoxView",
            "box_style": "",
            "children": [
              "IPY_MODEL_c428480b242d4add84ccbc116bdd48ab",
              "IPY_MODEL_5ced4be711b642c78127a37def9a82a8",
              "IPY_MODEL_e1ee8e2090094019ba0343015da12b8c"
            ],
            "layout": "IPY_MODEL_35953ad2a00f4c54af4c268ff076491d"
          }
        },
        "c428480b242d4add84ccbc116bdd48ab": {
          "model_module": "@jupyter-widgets/controls",
          "model_name": "HTMLModel",
          "model_module_version": "1.5.0",
          "state": {
            "_dom_classes": [],
            "_model_module": "@jupyter-widgets/controls",
            "_model_module_version": "1.5.0",
            "_model_name": "HTMLModel",
            "_view_count": null,
            "_view_module": "@jupyter-widgets/controls",
            "_view_module_version": "1.5.0",
            "_view_name": "HTMLView",
            "description": "",
            "description_tooltip": null,
            "layout": "IPY_MODEL_7de410a99b164b64a763e1ad5916bd30",
            "placeholder": "​",
            "style": "IPY_MODEL_1a5f6c275d0d42a6902f7211a28488fa",
            "value": "tokenizer_config.json: 100%"
          }
        },
        "5ced4be711b642c78127a37def9a82a8": {
          "model_module": "@jupyter-widgets/controls",
          "model_name": "FloatProgressModel",
          "model_module_version": "1.5.0",
          "state": {
            "_dom_classes": [],
            "_model_module": "@jupyter-widgets/controls",
            "_model_module_version": "1.5.0",
            "_model_name": "FloatProgressModel",
            "_view_count": null,
            "_view_module": "@jupyter-widgets/controls",
            "_view_module_version": "1.5.0",
            "_view_name": "ProgressView",
            "bar_style": "success",
            "description": "",
            "description_tooltip": null,
            "layout": "IPY_MODEL_8719f4fcbd7842b0889a44933e741cad",
            "max": 1338,
            "min": 0,
            "orientation": "horizontal",
            "style": "IPY_MODEL_60c0209697bf484a9d16c675125c743f",
            "value": 1338
          }
        },
        "e1ee8e2090094019ba0343015da12b8c": {
          "model_module": "@jupyter-widgets/controls",
          "model_name": "HTMLModel",
          "model_module_version": "1.5.0",
          "state": {
            "_dom_classes": [],
            "_model_module": "@jupyter-widgets/controls",
            "_model_module_version": "1.5.0",
            "_model_name": "HTMLModel",
            "_view_count": null,
            "_view_module": "@jupyter-widgets/controls",
            "_view_module_version": "1.5.0",
            "_view_name": "HTMLView",
            "description": "",
            "description_tooltip": null,
            "layout": "IPY_MODEL_c9b4fe2f62a3486787b2aae0d0a371a2",
            "placeholder": "​",
            "style": "IPY_MODEL_fce033d1e1764bd18d3b4f9cc4270bd7",
            "value": " 1.34k/1.34k [00:00&lt;00:00, 119kB/s]"
          }
        },
        "35953ad2a00f4c54af4c268ff076491d": {
          "model_module": "@jupyter-widgets/base",
          "model_name": "LayoutModel",
          "model_module_version": "1.2.0",
          "state": {
            "_model_module": "@jupyter-widgets/base",
            "_model_module_version": "1.2.0",
            "_model_name": "LayoutModel",
            "_view_count": null,
            "_view_module": "@jupyter-widgets/base",
            "_view_module_version": "1.2.0",
            "_view_name": "LayoutView",
            "align_content": null,
            "align_items": null,
            "align_self": null,
            "border": null,
            "bottom": null,
            "display": null,
            "flex": null,
            "flex_flow": null,
            "grid_area": null,
            "grid_auto_columns": null,
            "grid_auto_flow": null,
            "grid_auto_rows": null,
            "grid_column": null,
            "grid_gap": null,
            "grid_row": null,
            "grid_template_areas": null,
            "grid_template_columns": null,
            "grid_template_rows": null,
            "height": null,
            "justify_content": null,
            "justify_items": null,
            "left": null,
            "margin": null,
            "max_height": null,
            "max_width": null,
            "min_height": null,
            "min_width": null,
            "object_fit": null,
            "object_position": null,
            "order": null,
            "overflow": null,
            "overflow_x": null,
            "overflow_y": null,
            "padding": null,
            "right": null,
            "top": null,
            "visibility": null,
            "width": null
          }
        },
        "7de410a99b164b64a763e1ad5916bd30": {
          "model_module": "@jupyter-widgets/base",
          "model_name": "LayoutModel",
          "model_module_version": "1.2.0",
          "state": {
            "_model_module": "@jupyter-widgets/base",
            "_model_module_version": "1.2.0",
            "_model_name": "LayoutModel",
            "_view_count": null,
            "_view_module": "@jupyter-widgets/base",
            "_view_module_version": "1.2.0",
            "_view_name": "LayoutView",
            "align_content": null,
            "align_items": null,
            "align_self": null,
            "border": null,
            "bottom": null,
            "display": null,
            "flex": null,
            "flex_flow": null,
            "grid_area": null,
            "grid_auto_columns": null,
            "grid_auto_flow": null,
            "grid_auto_rows": null,
            "grid_column": null,
            "grid_gap": null,
            "grid_row": null,
            "grid_template_areas": null,
            "grid_template_columns": null,
            "grid_template_rows": null,
            "height": null,
            "justify_content": null,
            "justify_items": null,
            "left": null,
            "margin": null,
            "max_height": null,
            "max_width": null,
            "min_height": null,
            "min_width": null,
            "object_fit": null,
            "object_position": null,
            "order": null,
            "overflow": null,
            "overflow_x": null,
            "overflow_y": null,
            "padding": null,
            "right": null,
            "top": null,
            "visibility": null,
            "width": null
          }
        },
        "1a5f6c275d0d42a6902f7211a28488fa": {
          "model_module": "@jupyter-widgets/controls",
          "model_name": "DescriptionStyleModel",
          "model_module_version": "1.5.0",
          "state": {
            "_model_module": "@jupyter-widgets/controls",
            "_model_module_version": "1.5.0",
            "_model_name": "DescriptionStyleModel",
            "_view_count": null,
            "_view_module": "@jupyter-widgets/base",
            "_view_module_version": "1.2.0",
            "_view_name": "StyleView",
            "description_width": ""
          }
        },
        "8719f4fcbd7842b0889a44933e741cad": {
          "model_module": "@jupyter-widgets/base",
          "model_name": "LayoutModel",
          "model_module_version": "1.2.0",
          "state": {
            "_model_module": "@jupyter-widgets/base",
            "_model_module_version": "1.2.0",
            "_model_name": "LayoutModel",
            "_view_count": null,
            "_view_module": "@jupyter-widgets/base",
            "_view_module_version": "1.2.0",
            "_view_name": "LayoutView",
            "align_content": null,
            "align_items": null,
            "align_self": null,
            "border": null,
            "bottom": null,
            "display": null,
            "flex": null,
            "flex_flow": null,
            "grid_area": null,
            "grid_auto_columns": null,
            "grid_auto_flow": null,
            "grid_auto_rows": null,
            "grid_column": null,
            "grid_gap": null,
            "grid_row": null,
            "grid_template_areas": null,
            "grid_template_columns": null,
            "grid_template_rows": null,
            "height": null,
            "justify_content": null,
            "justify_items": null,
            "left": null,
            "margin": null,
            "max_height": null,
            "max_width": null,
            "min_height": null,
            "min_width": null,
            "object_fit": null,
            "object_position": null,
            "order": null,
            "overflow": null,
            "overflow_x": null,
            "overflow_y": null,
            "padding": null,
            "right": null,
            "top": null,
            "visibility": null,
            "width": null
          }
        },
        "60c0209697bf484a9d16c675125c743f": {
          "model_module": "@jupyter-widgets/controls",
          "model_name": "ProgressStyleModel",
          "model_module_version": "1.5.0",
          "state": {
            "_model_module": "@jupyter-widgets/controls",
            "_model_module_version": "1.5.0",
            "_model_name": "ProgressStyleModel",
            "_view_count": null,
            "_view_module": "@jupyter-widgets/base",
            "_view_module_version": "1.2.0",
            "_view_name": "StyleView",
            "bar_color": null,
            "description_width": ""
          }
        },
        "c9b4fe2f62a3486787b2aae0d0a371a2": {
          "model_module": "@jupyter-widgets/base",
          "model_name": "LayoutModel",
          "model_module_version": "1.2.0",
          "state": {
            "_model_module": "@jupyter-widgets/base",
            "_model_module_version": "1.2.0",
            "_model_name": "LayoutModel",
            "_view_count": null,
            "_view_module": "@jupyter-widgets/base",
            "_view_module_version": "1.2.0",
            "_view_name": "LayoutView",
            "align_content": null,
            "align_items": null,
            "align_self": null,
            "border": null,
            "bottom": null,
            "display": null,
            "flex": null,
            "flex_flow": null,
            "grid_area": null,
            "grid_auto_columns": null,
            "grid_auto_flow": null,
            "grid_auto_rows": null,
            "grid_column": null,
            "grid_gap": null,
            "grid_row": null,
            "grid_template_areas": null,
            "grid_template_columns": null,
            "grid_template_rows": null,
            "height": null,
            "justify_content": null,
            "justify_items": null,
            "left": null,
            "margin": null,
            "max_height": null,
            "max_width": null,
            "min_height": null,
            "min_width": null,
            "object_fit": null,
            "object_position": null,
            "order": null,
            "overflow": null,
            "overflow_x": null,
            "overflow_y": null,
            "padding": null,
            "right": null,
            "top": null,
            "visibility": null,
            "width": null
          }
        },
        "fce033d1e1764bd18d3b4f9cc4270bd7": {
          "model_module": "@jupyter-widgets/controls",
          "model_name": "DescriptionStyleModel",
          "model_module_version": "1.5.0",
          "state": {
            "_model_module": "@jupyter-widgets/controls",
            "_model_module_version": "1.5.0",
            "_model_name": "DescriptionStyleModel",
            "_view_count": null,
            "_view_module": "@jupyter-widgets/base",
            "_view_module_version": "1.2.0",
            "_view_name": "StyleView",
            "description_width": ""
          }
        },
        "19851a9a4ddc4c64aa202ea8bd3b5cd2": {
          "model_module": "@jupyter-widgets/controls",
          "model_name": "HBoxModel",
          "model_module_version": "1.5.0",
          "state": {
            "_dom_classes": [],
            "_model_module": "@jupyter-widgets/controls",
            "_model_module_version": "1.5.0",
            "_model_name": "HBoxModel",
            "_view_count": null,
            "_view_module": "@jupyter-widgets/controls",
            "_view_module_version": "1.5.0",
            "_view_name": "HBoxView",
            "box_style": "",
            "children": [
              "IPY_MODEL_d9c812c760e045a187fa76aa3e34d5ad",
              "IPY_MODEL_c9be54691e4d415f8cf8c665cd45227d",
              "IPY_MODEL_86adc278b6a64ff5823dbdf617819c15"
            ],
            "layout": "IPY_MODEL_b3af678bcf2343f68a73e1d47305f3a8"
          }
        },
        "d9c812c760e045a187fa76aa3e34d5ad": {
          "model_module": "@jupyter-widgets/controls",
          "model_name": "HTMLModel",
          "model_module_version": "1.5.0",
          "state": {
            "_dom_classes": [],
            "_model_module": "@jupyter-widgets/controls",
            "_model_module_version": "1.5.0",
            "_model_name": "HTMLModel",
            "_view_count": null,
            "_view_module": "@jupyter-widgets/controls",
            "_view_module_version": "1.5.0",
            "_view_name": "HTMLView",
            "description": "",
            "description_tooltip": null,
            "layout": "IPY_MODEL_785095fa72af493f81a199ffa83f4fba",
            "placeholder": "​",
            "style": "IPY_MODEL_cb966e19a9174e619ea18c5548c64e20",
            "value": "tokenizer.json: 100%"
          }
        },
        "c9be54691e4d415f8cf8c665cd45227d": {
          "model_module": "@jupyter-widgets/controls",
          "model_name": "FloatProgressModel",
          "model_module_version": "1.5.0",
          "state": {
            "_dom_classes": [],
            "_model_module": "@jupyter-widgets/controls",
            "_model_module_version": "1.5.0",
            "_model_name": "FloatProgressModel",
            "_view_count": null,
            "_view_module": "@jupyter-widgets/controls",
            "_view_module_version": "1.5.0",
            "_view_name": "ProgressView",
            "bar_style": "success",
            "description": "",
            "description_tooltip": null,
            "layout": "IPY_MODEL_a88acd44d7b5459ba18d2210de052b69",
            "max": 17082941,
            "min": 0,
            "orientation": "horizontal",
            "style": "IPY_MODEL_7299994287b544fc94f337e711532f13",
            "value": 17082941
          }
        },
        "86adc278b6a64ff5823dbdf617819c15": {
          "model_module": "@jupyter-widgets/controls",
          "model_name": "HTMLModel",
          "model_module_version": "1.5.0",
          "state": {
            "_dom_classes": [],
            "_model_module": "@jupyter-widgets/controls",
            "_model_module_version": "1.5.0",
            "_model_name": "HTMLModel",
            "_view_count": null,
            "_view_module": "@jupyter-widgets/controls",
            "_view_module_version": "1.5.0",
            "_view_name": "HTMLView",
            "description": "",
            "description_tooltip": null,
            "layout": "IPY_MODEL_c6ba9f5bf945406cb86ec29696596435",
            "placeholder": "​",
            "style": "IPY_MODEL_1bbe5a1fb2b042c08ba511ecde83798d",
            "value": " 17.1M/17.1M [00:00&lt;00:00, 159MB/s]"
          }
        },
        "b3af678bcf2343f68a73e1d47305f3a8": {
          "model_module": "@jupyter-widgets/base",
          "model_name": "LayoutModel",
          "model_module_version": "1.2.0",
          "state": {
            "_model_module": "@jupyter-widgets/base",
            "_model_module_version": "1.2.0",
            "_model_name": "LayoutModel",
            "_view_count": null,
            "_view_module": "@jupyter-widgets/base",
            "_view_module_version": "1.2.0",
            "_view_name": "LayoutView",
            "align_content": null,
            "align_items": null,
            "align_self": null,
            "border": null,
            "bottom": null,
            "display": null,
            "flex": null,
            "flex_flow": null,
            "grid_area": null,
            "grid_auto_columns": null,
            "grid_auto_flow": null,
            "grid_auto_rows": null,
            "grid_column": null,
            "grid_gap": null,
            "grid_row": null,
            "grid_template_areas": null,
            "grid_template_columns": null,
            "grid_template_rows": null,
            "height": null,
            "justify_content": null,
            "justify_items": null,
            "left": null,
            "margin": null,
            "max_height": null,
            "max_width": null,
            "min_height": null,
            "min_width": null,
            "object_fit": null,
            "object_position": null,
            "order": null,
            "overflow": null,
            "overflow_x": null,
            "overflow_y": null,
            "padding": null,
            "right": null,
            "top": null,
            "visibility": null,
            "width": null
          }
        },
        "785095fa72af493f81a199ffa83f4fba": {
          "model_module": "@jupyter-widgets/base",
          "model_name": "LayoutModel",
          "model_module_version": "1.2.0",
          "state": {
            "_model_module": "@jupyter-widgets/base",
            "_model_module_version": "1.2.0",
            "_model_name": "LayoutModel",
            "_view_count": null,
            "_view_module": "@jupyter-widgets/base",
            "_view_module_version": "1.2.0",
            "_view_name": "LayoutView",
            "align_content": null,
            "align_items": null,
            "align_self": null,
            "border": null,
            "bottom": null,
            "display": null,
            "flex": null,
            "flex_flow": null,
            "grid_area": null,
            "grid_auto_columns": null,
            "grid_auto_flow": null,
            "grid_auto_rows": null,
            "grid_column": null,
            "grid_gap": null,
            "grid_row": null,
            "grid_template_areas": null,
            "grid_template_columns": null,
            "grid_template_rows": null,
            "height": null,
            "justify_content": null,
            "justify_items": null,
            "left": null,
            "margin": null,
            "max_height": null,
            "max_width": null,
            "min_height": null,
            "min_width": null,
            "object_fit": null,
            "object_position": null,
            "order": null,
            "overflow": null,
            "overflow_x": null,
            "overflow_y": null,
            "padding": null,
            "right": null,
            "top": null,
            "visibility": null,
            "width": null
          }
        },
        "cb966e19a9174e619ea18c5548c64e20": {
          "model_module": "@jupyter-widgets/controls",
          "model_name": "DescriptionStyleModel",
          "model_module_version": "1.5.0",
          "state": {
            "_model_module": "@jupyter-widgets/controls",
            "_model_module_version": "1.5.0",
            "_model_name": "DescriptionStyleModel",
            "_view_count": null,
            "_view_module": "@jupyter-widgets/base",
            "_view_module_version": "1.2.0",
            "_view_name": "StyleView",
            "description_width": ""
          }
        },
        "a88acd44d7b5459ba18d2210de052b69": {
          "model_module": "@jupyter-widgets/base",
          "model_name": "LayoutModel",
          "model_module_version": "1.2.0",
          "state": {
            "_model_module": "@jupyter-widgets/base",
            "_model_module_version": "1.2.0",
            "_model_name": "LayoutModel",
            "_view_count": null,
            "_view_module": "@jupyter-widgets/base",
            "_view_module_version": "1.2.0",
            "_view_name": "LayoutView",
            "align_content": null,
            "align_items": null,
            "align_self": null,
            "border": null,
            "bottom": null,
            "display": null,
            "flex": null,
            "flex_flow": null,
            "grid_area": null,
            "grid_auto_columns": null,
            "grid_auto_flow": null,
            "grid_auto_rows": null,
            "grid_column": null,
            "grid_gap": null,
            "grid_row": null,
            "grid_template_areas": null,
            "grid_template_columns": null,
            "grid_template_rows": null,
            "height": null,
            "justify_content": null,
            "justify_items": null,
            "left": null,
            "margin": null,
            "max_height": null,
            "max_width": null,
            "min_height": null,
            "min_width": null,
            "object_fit": null,
            "object_position": null,
            "order": null,
            "overflow": null,
            "overflow_x": null,
            "overflow_y": null,
            "padding": null,
            "right": null,
            "top": null,
            "visibility": null,
            "width": null
          }
        },
        "7299994287b544fc94f337e711532f13": {
          "model_module": "@jupyter-widgets/controls",
          "model_name": "ProgressStyleModel",
          "model_module_version": "1.5.0",
          "state": {
            "_model_module": "@jupyter-widgets/controls",
            "_model_module_version": "1.5.0",
            "_model_name": "ProgressStyleModel",
            "_view_count": null,
            "_view_module": "@jupyter-widgets/base",
            "_view_module_version": "1.2.0",
            "_view_name": "StyleView",
            "bar_color": null,
            "description_width": ""
          }
        },
        "c6ba9f5bf945406cb86ec29696596435": {
          "model_module": "@jupyter-widgets/base",
          "model_name": "LayoutModel",
          "model_module_version": "1.2.0",
          "state": {
            "_model_module": "@jupyter-widgets/base",
            "_model_module_version": "1.2.0",
            "_model_name": "LayoutModel",
            "_view_count": null,
            "_view_module": "@jupyter-widgets/base",
            "_view_module_version": "1.2.0",
            "_view_name": "LayoutView",
            "align_content": null,
            "align_items": null,
            "align_self": null,
            "border": null,
            "bottom": null,
            "display": null,
            "flex": null,
            "flex_flow": null,
            "grid_area": null,
            "grid_auto_columns": null,
            "grid_auto_flow": null,
            "grid_auto_rows": null,
            "grid_column": null,
            "grid_gap": null,
            "grid_row": null,
            "grid_template_areas": null,
            "grid_template_columns": null,
            "grid_template_rows": null,
            "height": null,
            "justify_content": null,
            "justify_items": null,
            "left": null,
            "margin": null,
            "max_height": null,
            "max_width": null,
            "min_height": null,
            "min_width": null,
            "object_fit": null,
            "object_position": null,
            "order": null,
            "overflow": null,
            "overflow_x": null,
            "overflow_y": null,
            "padding": null,
            "right": null,
            "top": null,
            "visibility": null,
            "width": null
          }
        },
        "1bbe5a1fb2b042c08ba511ecde83798d": {
          "model_module": "@jupyter-widgets/controls",
          "model_name": "DescriptionStyleModel",
          "model_module_version": "1.5.0",
          "state": {
            "_model_module": "@jupyter-widgets/controls",
            "_model_module_version": "1.5.0",
            "_model_name": "DescriptionStyleModel",
            "_view_count": null,
            "_view_module": "@jupyter-widgets/base",
            "_view_module_version": "1.2.0",
            "_view_name": "StyleView",
            "description_width": ""
          }
        },
        "c952733687554db0840c9a0962853d2d": {
          "model_module": "@jupyter-widgets/controls",
          "model_name": "HBoxModel",
          "model_module_version": "1.5.0",
          "state": {
            "_dom_classes": [],
            "_model_module": "@jupyter-widgets/controls",
            "_model_module_version": "1.5.0",
            "_model_name": "HBoxModel",
            "_view_count": null,
            "_view_module": "@jupyter-widgets/controls",
            "_view_module_version": "1.5.0",
            "_view_name": "HBoxView",
            "box_style": "",
            "children": [
              "IPY_MODEL_ce54670348c5474c81eb2acc8f65cc8c",
              "IPY_MODEL_52fbe14ac6d34269b06140c34f213946",
              "IPY_MODEL_06a884b83e324fce8fcb6f90d0ab56a7"
            ],
            "layout": "IPY_MODEL_9fc8bd7819084e018a76fc895f1b5566"
          }
        },
        "ce54670348c5474c81eb2acc8f65cc8c": {
          "model_module": "@jupyter-widgets/controls",
          "model_name": "HTMLModel",
          "model_module_version": "1.5.0",
          "state": {
            "_dom_classes": [],
            "_model_module": "@jupyter-widgets/controls",
            "_model_module_version": "1.5.0",
            "_model_name": "HTMLModel",
            "_view_count": null,
            "_view_module": "@jupyter-widgets/controls",
            "_view_module_version": "1.5.0",
            "_view_name": "HTMLView",
            "description": "",
            "description_tooltip": null,
            "layout": "IPY_MODEL_1941727ea5a64687820af7d488a1eeea",
            "placeholder": "​",
            "style": "IPY_MODEL_3a906ce640b547389ea6f5ab652a79a1",
            "value": "special_tokens_map.json: 100%"
          }
        },
        "52fbe14ac6d34269b06140c34f213946": {
          "model_module": "@jupyter-widgets/controls",
          "model_name": "FloatProgressModel",
          "model_module_version": "1.5.0",
          "state": {
            "_dom_classes": [],
            "_model_module": "@jupyter-widgets/controls",
            "_model_module_version": "1.5.0",
            "_model_name": "FloatProgressModel",
            "_view_count": null,
            "_view_module": "@jupyter-widgets/controls",
            "_view_module_version": "1.5.0",
            "_view_name": "ProgressView",
            "bar_style": "success",
            "description": "",
            "description_tooltip": null,
            "layout": "IPY_MODEL_5f6005275e1242beb0263c7693d17285",
            "max": 964,
            "min": 0,
            "orientation": "horizontal",
            "style": "IPY_MODEL_6136a1e46e7c4b54ad55e868933aceaf",
            "value": 964
          }
        },
        "06a884b83e324fce8fcb6f90d0ab56a7": {
          "model_module": "@jupyter-widgets/controls",
          "model_name": "HTMLModel",
          "model_module_version": "1.5.0",
          "state": {
            "_dom_classes": [],
            "_model_module": "@jupyter-widgets/controls",
            "_model_module_version": "1.5.0",
            "_model_name": "HTMLModel",
            "_view_count": null,
            "_view_module": "@jupyter-widgets/controls",
            "_view_module_version": "1.5.0",
            "_view_name": "HTMLView",
            "description": "",
            "description_tooltip": null,
            "layout": "IPY_MODEL_210ae9db0e3f4fcd847bd4a80459f78b",
            "placeholder": "​",
            "style": "IPY_MODEL_65bd0262ecbe4efd869630b3f812cd74",
            "value": " 964/964 [00:00&lt;00:00, 24.2kB/s]"
          }
        },
        "9fc8bd7819084e018a76fc895f1b5566": {
          "model_module": "@jupyter-widgets/base",
          "model_name": "LayoutModel",
          "model_module_version": "1.2.0",
          "state": {
            "_model_module": "@jupyter-widgets/base",
            "_model_module_version": "1.2.0",
            "_model_name": "LayoutModel",
            "_view_count": null,
            "_view_module": "@jupyter-widgets/base",
            "_view_module_version": "1.2.0",
            "_view_name": "LayoutView",
            "align_content": null,
            "align_items": null,
            "align_self": null,
            "border": null,
            "bottom": null,
            "display": null,
            "flex": null,
            "flex_flow": null,
            "grid_area": null,
            "grid_auto_columns": null,
            "grid_auto_flow": null,
            "grid_auto_rows": null,
            "grid_column": null,
            "grid_gap": null,
            "grid_row": null,
            "grid_template_areas": null,
            "grid_template_columns": null,
            "grid_template_rows": null,
            "height": null,
            "justify_content": null,
            "justify_items": null,
            "left": null,
            "margin": null,
            "max_height": null,
            "max_width": null,
            "min_height": null,
            "min_width": null,
            "object_fit": null,
            "object_position": null,
            "order": null,
            "overflow": null,
            "overflow_x": null,
            "overflow_y": null,
            "padding": null,
            "right": null,
            "top": null,
            "visibility": null,
            "width": null
          }
        },
        "1941727ea5a64687820af7d488a1eeea": {
          "model_module": "@jupyter-widgets/base",
          "model_name": "LayoutModel",
          "model_module_version": "1.2.0",
          "state": {
            "_model_module": "@jupyter-widgets/base",
            "_model_module_version": "1.2.0",
            "_model_name": "LayoutModel",
            "_view_count": null,
            "_view_module": "@jupyter-widgets/base",
            "_view_module_version": "1.2.0",
            "_view_name": "LayoutView",
            "align_content": null,
            "align_items": null,
            "align_self": null,
            "border": null,
            "bottom": null,
            "display": null,
            "flex": null,
            "flex_flow": null,
            "grid_area": null,
            "grid_auto_columns": null,
            "grid_auto_flow": null,
            "grid_auto_rows": null,
            "grid_column": null,
            "grid_gap": null,
            "grid_row": null,
            "grid_template_areas": null,
            "grid_template_columns": null,
            "grid_template_rows": null,
            "height": null,
            "justify_content": null,
            "justify_items": null,
            "left": null,
            "margin": null,
            "max_height": null,
            "max_width": null,
            "min_height": null,
            "min_width": null,
            "object_fit": null,
            "object_position": null,
            "order": null,
            "overflow": null,
            "overflow_x": null,
            "overflow_y": null,
            "padding": null,
            "right": null,
            "top": null,
            "visibility": null,
            "width": null
          }
        },
        "3a906ce640b547389ea6f5ab652a79a1": {
          "model_module": "@jupyter-widgets/controls",
          "model_name": "DescriptionStyleModel",
          "model_module_version": "1.5.0",
          "state": {
            "_model_module": "@jupyter-widgets/controls",
            "_model_module_version": "1.5.0",
            "_model_name": "DescriptionStyleModel",
            "_view_count": null,
            "_view_module": "@jupyter-widgets/base",
            "_view_module_version": "1.2.0",
            "_view_name": "StyleView",
            "description_width": ""
          }
        },
        "5f6005275e1242beb0263c7693d17285": {
          "model_module": "@jupyter-widgets/base",
          "model_name": "LayoutModel",
          "model_module_version": "1.2.0",
          "state": {
            "_model_module": "@jupyter-widgets/base",
            "_model_module_version": "1.2.0",
            "_model_name": "LayoutModel",
            "_view_count": null,
            "_view_module": "@jupyter-widgets/base",
            "_view_module_version": "1.2.0",
            "_view_name": "LayoutView",
            "align_content": null,
            "align_items": null,
            "align_self": null,
            "border": null,
            "bottom": null,
            "display": null,
            "flex": null,
            "flex_flow": null,
            "grid_area": null,
            "grid_auto_columns": null,
            "grid_auto_flow": null,
            "grid_auto_rows": null,
            "grid_column": null,
            "grid_gap": null,
            "grid_row": null,
            "grid_template_areas": null,
            "grid_template_columns": null,
            "grid_template_rows": null,
            "height": null,
            "justify_content": null,
            "justify_items": null,
            "left": null,
            "margin": null,
            "max_height": null,
            "max_width": null,
            "min_height": null,
            "min_width": null,
            "object_fit": null,
            "object_position": null,
            "order": null,
            "overflow": null,
            "overflow_x": null,
            "overflow_y": null,
            "padding": null,
            "right": null,
            "top": null,
            "visibility": null,
            "width": null
          }
        },
        "6136a1e46e7c4b54ad55e868933aceaf": {
          "model_module": "@jupyter-widgets/controls",
          "model_name": "ProgressStyleModel",
          "model_module_version": "1.5.0",
          "state": {
            "_model_module": "@jupyter-widgets/controls",
            "_model_module_version": "1.5.0",
            "_model_name": "ProgressStyleModel",
            "_view_count": null,
            "_view_module": "@jupyter-widgets/base",
            "_view_module_version": "1.2.0",
            "_view_name": "StyleView",
            "bar_color": null,
            "description_width": ""
          }
        },
        "210ae9db0e3f4fcd847bd4a80459f78b": {
          "model_module": "@jupyter-widgets/base",
          "model_name": "LayoutModel",
          "model_module_version": "1.2.0",
          "state": {
            "_model_module": "@jupyter-widgets/base",
            "_model_module_version": "1.2.0",
            "_model_name": "LayoutModel",
            "_view_count": null,
            "_view_module": "@jupyter-widgets/base",
            "_view_module_version": "1.2.0",
            "_view_name": "LayoutView",
            "align_content": null,
            "align_items": null,
            "align_self": null,
            "border": null,
            "bottom": null,
            "display": null,
            "flex": null,
            "flex_flow": null,
            "grid_area": null,
            "grid_auto_columns": null,
            "grid_auto_flow": null,
            "grid_auto_rows": null,
            "grid_column": null,
            "grid_gap": null,
            "grid_row": null,
            "grid_template_areas": null,
            "grid_template_columns": null,
            "grid_template_rows": null,
            "height": null,
            "justify_content": null,
            "justify_items": null,
            "left": null,
            "margin": null,
            "max_height": null,
            "max_width": null,
            "min_height": null,
            "min_width": null,
            "object_fit": null,
            "object_position": null,
            "order": null,
            "overflow": null,
            "overflow_x": null,
            "overflow_y": null,
            "padding": null,
            "right": null,
            "top": null,
            "visibility": null,
            "width": null
          }
        },
        "65bd0262ecbe4efd869630b3f812cd74": {
          "model_module": "@jupyter-widgets/controls",
          "model_name": "DescriptionStyleModel",
          "model_module_version": "1.5.0",
          "state": {
            "_model_module": "@jupyter-widgets/controls",
            "_model_module_version": "1.5.0",
            "_model_name": "DescriptionStyleModel",
            "_view_count": null,
            "_view_module": "@jupyter-widgets/base",
            "_view_module_version": "1.2.0",
            "_view_name": "StyleView",
            "description_width": ""
          }
        },
        "9598b34cf662404f91234d9079918495": {
          "model_module": "@jupyter-widgets/controls",
          "model_name": "HBoxModel",
          "model_module_version": "1.5.0",
          "state": {
            "_dom_classes": [],
            "_model_module": "@jupyter-widgets/controls",
            "_model_module_version": "1.5.0",
            "_model_name": "HBoxModel",
            "_view_count": null,
            "_view_module": "@jupyter-widgets/controls",
            "_view_module_version": "1.5.0",
            "_view_name": "HBoxView",
            "box_style": "",
            "children": [
              "IPY_MODEL_df8993be259a444cab2d183378adb40d",
              "IPY_MODEL_489dde931db54ebd96ceea0924d7408b",
              "IPY_MODEL_8983815bfe9a4b67a8c1212dc5dd4c70"
            ],
            "layout": "IPY_MODEL_cb797c35acaa4f3e842e025e7ecc8e84"
          }
        },
        "df8993be259a444cab2d183378adb40d": {
          "model_module": "@jupyter-widgets/controls",
          "model_name": "HTMLModel",
          "model_module_version": "1.5.0",
          "state": {
            "_dom_classes": [],
            "_model_module": "@jupyter-widgets/controls",
            "_model_module_version": "1.5.0",
            "_model_name": "HTMLModel",
            "_view_count": null,
            "_view_module": "@jupyter-widgets/controls",
            "_view_module_version": "1.5.0",
            "_view_name": "HTMLView",
            "description": "",
            "description_tooltip": null,
            "layout": "IPY_MODEL_ce0a97d1efac4c0a9cd9eb1680dbfbf3",
            "placeholder": "​",
            "style": "IPY_MODEL_db876a4b0b5a4c9a8b46611a7b8b2ceb",
            "value": "config.json: 100%"
          }
        },
        "489dde931db54ebd96ceea0924d7408b": {
          "model_module": "@jupyter-widgets/controls",
          "model_name": "FloatProgressModel",
          "model_module_version": "1.5.0",
          "state": {
            "_dom_classes": [],
            "_model_module": "@jupyter-widgets/controls",
            "_model_module_version": "1.5.0",
            "_model_name": "FloatProgressModel",
            "_view_count": null,
            "_view_module": "@jupyter-widgets/controls",
            "_view_module_version": "1.5.0",
            "_view_name": "ProgressView",
            "bar_style": "success",
            "description": "",
            "description_tooltip": null,
            "layout": "IPY_MODEL_50044813532b4398825bad3b8366ed55",
            "max": 271,
            "min": 0,
            "orientation": "horizontal",
            "style": "IPY_MODEL_ce827265a71e46eaa5dcc1bfe413f531",
            "value": 271
          }
        },
        "8983815bfe9a4b67a8c1212dc5dd4c70": {
          "model_module": "@jupyter-widgets/controls",
          "model_name": "HTMLModel",
          "model_module_version": "1.5.0",
          "state": {
            "_dom_classes": [],
            "_model_module": "@jupyter-widgets/controls",
            "_model_module_version": "1.5.0",
            "_model_name": "HTMLModel",
            "_view_count": null,
            "_view_module": "@jupyter-widgets/controls",
            "_view_module_version": "1.5.0",
            "_view_name": "HTMLView",
            "description": "",
            "description_tooltip": null,
            "layout": "IPY_MODEL_64c7ed36c00f4d99b6732d100070b55e",
            "placeholder": "​",
            "style": "IPY_MODEL_a988c79edf3e4dd9b3e4466166f74f92",
            "value": " 271/271 [00:00&lt;00:00, 15.6kB/s]"
          }
        },
        "cb797c35acaa4f3e842e025e7ecc8e84": {
          "model_module": "@jupyter-widgets/base",
          "model_name": "LayoutModel",
          "model_module_version": "1.2.0",
          "state": {
            "_model_module": "@jupyter-widgets/base",
            "_model_module_version": "1.2.0",
            "_model_name": "LayoutModel",
            "_view_count": null,
            "_view_module": "@jupyter-widgets/base",
            "_view_module_version": "1.2.0",
            "_view_name": "LayoutView",
            "align_content": null,
            "align_items": null,
            "align_self": null,
            "border": null,
            "bottom": null,
            "display": null,
            "flex": null,
            "flex_flow": null,
            "grid_area": null,
            "grid_auto_columns": null,
            "grid_auto_flow": null,
            "grid_auto_rows": null,
            "grid_column": null,
            "grid_gap": null,
            "grid_row": null,
            "grid_template_areas": null,
            "grid_template_columns": null,
            "grid_template_rows": null,
            "height": null,
            "justify_content": null,
            "justify_items": null,
            "left": null,
            "margin": null,
            "max_height": null,
            "max_width": null,
            "min_height": null,
            "min_width": null,
            "object_fit": null,
            "object_position": null,
            "order": null,
            "overflow": null,
            "overflow_x": null,
            "overflow_y": null,
            "padding": null,
            "right": null,
            "top": null,
            "visibility": null,
            "width": null
          }
        },
        "ce0a97d1efac4c0a9cd9eb1680dbfbf3": {
          "model_module": "@jupyter-widgets/base",
          "model_name": "LayoutModel",
          "model_module_version": "1.2.0",
          "state": {
            "_model_module": "@jupyter-widgets/base",
            "_model_module_version": "1.2.0",
            "_model_name": "LayoutModel",
            "_view_count": null,
            "_view_module": "@jupyter-widgets/base",
            "_view_module_version": "1.2.0",
            "_view_name": "LayoutView",
            "align_content": null,
            "align_items": null,
            "align_self": null,
            "border": null,
            "bottom": null,
            "display": null,
            "flex": null,
            "flex_flow": null,
            "grid_area": null,
            "grid_auto_columns": null,
            "grid_auto_flow": null,
            "grid_auto_rows": null,
            "grid_column": null,
            "grid_gap": null,
            "grid_row": null,
            "grid_template_areas": null,
            "grid_template_columns": null,
            "grid_template_rows": null,
            "height": null,
            "justify_content": null,
            "justify_items": null,
            "left": null,
            "margin": null,
            "max_height": null,
            "max_width": null,
            "min_height": null,
            "min_width": null,
            "object_fit": null,
            "object_position": null,
            "order": null,
            "overflow": null,
            "overflow_x": null,
            "overflow_y": null,
            "padding": null,
            "right": null,
            "top": null,
            "visibility": null,
            "width": null
          }
        },
        "db876a4b0b5a4c9a8b46611a7b8b2ceb": {
          "model_module": "@jupyter-widgets/controls",
          "model_name": "DescriptionStyleModel",
          "model_module_version": "1.5.0",
          "state": {
            "_model_module": "@jupyter-widgets/controls",
            "_model_module_version": "1.5.0",
            "_model_name": "DescriptionStyleModel",
            "_view_count": null,
            "_view_module": "@jupyter-widgets/base",
            "_view_module_version": "1.2.0",
            "_view_name": "StyleView",
            "description_width": ""
          }
        },
        "50044813532b4398825bad3b8366ed55": {
          "model_module": "@jupyter-widgets/base",
          "model_name": "LayoutModel",
          "model_module_version": "1.2.0",
          "state": {
            "_model_module": "@jupyter-widgets/base",
            "_model_module_version": "1.2.0",
            "_model_name": "LayoutModel",
            "_view_count": null,
            "_view_module": "@jupyter-widgets/base",
            "_view_module_version": "1.2.0",
            "_view_name": "LayoutView",
            "align_content": null,
            "align_items": null,
            "align_self": null,
            "border": null,
            "bottom": null,
            "display": null,
            "flex": null,
            "flex_flow": null,
            "grid_area": null,
            "grid_auto_columns": null,
            "grid_auto_flow": null,
            "grid_auto_rows": null,
            "grid_column": null,
            "grid_gap": null,
            "grid_row": null,
            "grid_template_areas": null,
            "grid_template_columns": null,
            "grid_template_rows": null,
            "height": null,
            "justify_content": null,
            "justify_items": null,
            "left": null,
            "margin": null,
            "max_height": null,
            "max_width": null,
            "min_height": null,
            "min_width": null,
            "object_fit": null,
            "object_position": null,
            "order": null,
            "overflow": null,
            "overflow_x": null,
            "overflow_y": null,
            "padding": null,
            "right": null,
            "top": null,
            "visibility": null,
            "width": null
          }
        },
        "ce827265a71e46eaa5dcc1bfe413f531": {
          "model_module": "@jupyter-widgets/controls",
          "model_name": "ProgressStyleModel",
          "model_module_version": "1.5.0",
          "state": {
            "_model_module": "@jupyter-widgets/controls",
            "_model_module_version": "1.5.0",
            "_model_name": "ProgressStyleModel",
            "_view_count": null,
            "_view_module": "@jupyter-widgets/base",
            "_view_module_version": "1.2.0",
            "_view_name": "StyleView",
            "bar_color": null,
            "description_width": ""
          }
        },
        "64c7ed36c00f4d99b6732d100070b55e": {
          "model_module": "@jupyter-widgets/base",
          "model_name": "LayoutModel",
          "model_module_version": "1.2.0",
          "state": {
            "_model_module": "@jupyter-widgets/base",
            "_model_module_version": "1.2.0",
            "_model_name": "LayoutModel",
            "_view_count": null,
            "_view_module": "@jupyter-widgets/base",
            "_view_module_version": "1.2.0",
            "_view_name": "LayoutView",
            "align_content": null,
            "align_items": null,
            "align_self": null,
            "border": null,
            "bottom": null,
            "display": null,
            "flex": null,
            "flex_flow": null,
            "grid_area": null,
            "grid_auto_columns": null,
            "grid_auto_flow": null,
            "grid_auto_rows": null,
            "grid_column": null,
            "grid_gap": null,
            "grid_row": null,
            "grid_template_areas": null,
            "grid_template_columns": null,
            "grid_template_rows": null,
            "height": null,
            "justify_content": null,
            "justify_items": null,
            "left": null,
            "margin": null,
            "max_height": null,
            "max_width": null,
            "min_height": null,
            "min_width": null,
            "object_fit": null,
            "object_position": null,
            "order": null,
            "overflow": null,
            "overflow_x": null,
            "overflow_y": null,
            "padding": null,
            "right": null,
            "top": null,
            "visibility": null,
            "width": null
          }
        },
        "a988c79edf3e4dd9b3e4466166f74f92": {
          "model_module": "@jupyter-widgets/controls",
          "model_name": "DescriptionStyleModel",
          "model_module_version": "1.5.0",
          "state": {
            "_model_module": "@jupyter-widgets/controls",
            "_model_module_version": "1.5.0",
            "_model_name": "DescriptionStyleModel",
            "_view_count": null,
            "_view_module": "@jupyter-widgets/base",
            "_view_module_version": "1.2.0",
            "_view_name": "StyleView",
            "description_width": ""
          }
        }
      }
    },
    "accelerator": "GPU"
  },
  "cells": [
    {
      "cell_type": "markdown",
      "source": [
        "# Installing packages and start seetings, Data Loading ..."
      ],
      "metadata": {
        "id": "u31NZbTSOj3k"
      }
    },
    {
      "cell_type": "code",
      "source": [
        "!pip install -qU langchain_community faiss-cpu langchain_huggingface langchain_groq langgraph"
      ],
      "metadata": {
        "colab": {
          "base_uri": "https://localhost:8080/"
        },
        "id": "FG1LZzUID_r6",
        "outputId": "ff3c673b-c467-43c4-ea27-ba79bdddb327"
      },
      "execution_count": null,
      "outputs": [
        {
          "output_type": "stream",
          "name": "stdout",
          "text": [
            "\u001b[2K     \u001b[90m━━━━━━━━━━━━━━━━━━━━━━━━━━━━━━━━━━━━━━━━\u001b[0m \u001b[32m43.5/43.5 kB\u001b[0m \u001b[31m2.8 MB/s\u001b[0m eta \u001b[36m0:00:00\u001b[0m\n",
            "\u001b[2K   \u001b[90m━━━━━━━━━━━━━━━━━━━━━━━━━━━━━━━━━━━━━━━━\u001b[0m \u001b[32m2.5/2.5 MB\u001b[0m \u001b[31m50.6 MB/s\u001b[0m eta \u001b[36m0:00:00\u001b[0m\n",
            "\u001b[2K   \u001b[90m━━━━━━━━━━━━━━━━━━━━━━━━━━━━━━━━━━━━━━━━\u001b[0m \u001b[32m31.3/31.3 MB\u001b[0m \u001b[31m21.1 MB/s\u001b[0m eta \u001b[36m0:00:00\u001b[0m\n",
            "\u001b[2K   \u001b[90m━━━━━━━━━━━━━━━━━━━━━━━━━━━━━━━━━━━━━━━━\u001b[0m \u001b[32m155.3/155.3 kB\u001b[0m \u001b[31m11.7 MB/s\u001b[0m eta \u001b[36m0:00:00\u001b[0m\n",
            "\u001b[2K   \u001b[90m━━━━━━━━━━━━━━━━━━━━━━━━━━━━━━━━━━━━━━━━\u001b[0m \u001b[32m129.4/129.4 kB\u001b[0m \u001b[31m10.7 MB/s\u001b[0m eta \u001b[36m0:00:00\u001b[0m\n",
            "\u001b[2K   \u001b[90m━━━━━━━━━━━━━━━━━━━━━━━━━━━━━━━━━━━━━━━━\u001b[0m \u001b[32m44.2/44.2 kB\u001b[0m \u001b[31m2.8 MB/s\u001b[0m eta \u001b[36m0:00:00\u001b[0m\n",
            "\u001b[2K   \u001b[90m━━━━━━━━━━━━━━━━━━━━━━━━━━━━━━━━━━━━━━━━\u001b[0m \u001b[32m48.9/48.9 kB\u001b[0m \u001b[31m3.5 MB/s\u001b[0m eta \u001b[36m0:00:00\u001b[0m\n",
            "\u001b[2K   \u001b[90m━━━━━━━━━━━━━━━━━━━━━━━━━━━━━━━━━━━━━━━━\u001b[0m \u001b[32m44.4/44.4 kB\u001b[0m \u001b[31m2.6 MB/s\u001b[0m eta \u001b[36m0:00:00\u001b[0m\n",
            "\u001b[2K   \u001b[90m━━━━━━━━━━━━━━━━━━━━━━━━━━━━━━━━━━━━━━━━\u001b[0m \u001b[32m50.9/50.9 kB\u001b[0m \u001b[31m4.3 MB/s\u001b[0m eta \u001b[36m0:00:00\u001b[0m\n",
            "\u001b[2K   \u001b[90m━━━━━━━━━━━━━━━━━━━━━━━━━━━━━━━━━━━━━━━━\u001b[0m \u001b[32m223.6/223.6 kB\u001b[0m \u001b[31m17.4 MB/s\u001b[0m eta \u001b[36m0:00:00\u001b[0m\n",
            "\u001b[2K   \u001b[90m━━━━━━━━━━━━━━━━━━━━━━━━━━━━━━━━━━━━━━━━\u001b[0m \u001b[32m363.4/363.4 MB\u001b[0m \u001b[31m3.6 MB/s\u001b[0m eta \u001b[36m0:00:00\u001b[0m\n",
            "\u001b[2K   \u001b[90m━━━━━━━━━━━━━━━━━━━━━━━━━━━━━━━━━━━━━━━━\u001b[0m \u001b[32m13.8/13.8 MB\u001b[0m \u001b[31m28.7 MB/s\u001b[0m eta \u001b[36m0:00:00\u001b[0m\n",
            "\u001b[2K   \u001b[90m━━━━━━━━━━━━━━━━━━━━━━━━━━━━━━━━━━━━━━━━\u001b[0m \u001b[32m24.6/24.6 MB\u001b[0m \u001b[31m18.1 MB/s\u001b[0m eta \u001b[36m0:00:00\u001b[0m\n",
            "\u001b[2K   \u001b[90m━━━━━━━━━━━━━━━━━━━━━━━━━━━━━━━━━━━━━━━━\u001b[0m \u001b[32m883.7/883.7 kB\u001b[0m \u001b[31m27.6 MB/s\u001b[0m eta \u001b[36m0:00:00\u001b[0m\n",
            "\u001b[2K   \u001b[90m━━━━━━━━━━━━━━━━━━━━━━━━━━━━━━━━━━━━━━━━\u001b[0m \u001b[32m664.8/664.8 MB\u001b[0m \u001b[31m2.9 MB/s\u001b[0m eta \u001b[36m0:00:00\u001b[0m\n",
            "\u001b[2K   \u001b[90m━━━━━━━━━━━━━━━━━━━━━━━━━━━━━━━━━━━━━━━━\u001b[0m \u001b[32m211.5/211.5 MB\u001b[0m \u001b[31m6.3 MB/s\u001b[0m eta \u001b[36m0:00:00\u001b[0m\n",
            "\u001b[2K   \u001b[90m━━━━━━━━━━━━━━━━━━━━━━━━━━━━━━━━━━━━━━━━\u001b[0m \u001b[32m56.3/56.3 MB\u001b[0m \u001b[31m13.3 MB/s\u001b[0m eta \u001b[36m0:00:00\u001b[0m\n",
            "\u001b[2K   \u001b[90m━━━━━━━━━━━━━━━━━━━━━━━━━━━━━━━━━━━━━━━━\u001b[0m \u001b[32m127.9/127.9 MB\u001b[0m \u001b[31m7.3 MB/s\u001b[0m eta \u001b[36m0:00:00\u001b[0m\n",
            "\u001b[2K   \u001b[90m━━━━━━━━━━━━━━━━━━━━━━━━━━━━━━━━━━━━━━━━\u001b[0m \u001b[32m207.5/207.5 MB\u001b[0m \u001b[31m5.5 MB/s\u001b[0m eta \u001b[36m0:00:00\u001b[0m\n",
            "\u001b[2K   \u001b[90m━━━━━━━━━━━━━━━━━━━━━━━━━━━━━━━━━━━━━━━━\u001b[0m \u001b[32m21.1/21.1 MB\u001b[0m \u001b[31m44.3 MB/s\u001b[0m eta \u001b[36m0:00:00\u001b[0m\n",
            "\u001b[?25h"
          ]
        }
      ]
    },
    {
      "cell_type": "code",
      "source": [
        "from google.colab import drive\n",
        "drive.mount('/content/drive')"
      ],
      "metadata": {
        "colab": {
          "base_uri": "https://localhost:8080/"
        },
        "id": "ts9ASQCNvoVb",
        "outputId": "1266534a-c24b-4d45-904d-caa604f57556"
      },
      "execution_count": null,
      "outputs": [
        {
          "output_type": "stream",
          "name": "stdout",
          "text": [
            "Mounted at /content/drive\n"
          ]
        }
      ]
    },
    {
      "cell_type": "code",
      "source": [
        "from langchain_community.document_loaders import CSVLoader\n",
        "DATA_PATH = \"/content/drive/MyDrive/news_samples_for_rag_v2.csv\"\n",
        "\n",
        "def load_and_preprocess_data(file_path):\n",
        "    # Load CSV file\n",
        "    loader = CSVLoader(\n",
        "        file_path=file_path,\n",
        "        csv_args={\n",
        "            \"delimiter\": \",\"\n",
        "        },\n",
        "        encoding = \"utf_8\",\n",
        "        metadata_columns = [\"news_agency_name\",\"url\",\"title\",\"published_at\",\"ner\",\"topic\",\"categories\"]\n",
        "    )\n",
        "    data = loader.load()\n",
        "\n",
        "    return data\n",
        "\n",
        "data = load_and_preprocess_data(DATA_PATH)"
      ],
      "metadata": {
        "id": "cTR5lHMuv_Zk"
      },
      "execution_count": null,
      "outputs": []
    },
    {
      "cell_type": "markdown",
      "source": [
        "# Setting Up the VectorDB and Imporing the Data"
      ],
      "metadata": {
        "id": "WF98mEIkPj3L"
      }
    },
    {
      "cell_type": "markdown",
      "source": [
        "برای نگه داشتن بردارهای متون خبری، از پایگاه داده فایس استفاده شده که یک پکیج بسیار ساده برای پایتون است و به صورت امبدشده روی نوت‌بوک می‌توان از آن استفاده کرد\n",
        "\n",
        "انتخاب‌های دیگری مانند ویوییت وجود دارد که در صورت لزوم می‌توان در پروژه‌های بزرگ‌تر از آن‌ها بهره برد\n",
        "\n",
        "برای ساختن بردار‌های بازنمایی سعی کردم از مدلی متن‌باز استفاده کنم. احتمالا انتخاب اول بسیاری از افراد هم برای مدل زبانی بزرگ و هم بازنمایی، اوپن‌ای‌آی باشد اما در صورت جواب گرفتن، ترجیح من مدل‌های متن‌باز هستند\n",
        "\n",
        "جستجو کردم و مدلی که در باکس زیر استفاده شده یک مدل آموزش‌دیده بر روی متون فارسی است که خوب کار می‌کند و وزن‌های آن روی هاگینگ‌فیس موجود است\n",
        "\n",
        "یقینا با بهتر کردن مدل بازنمایی، مثلا با تغیر آن یا ریزتنظیم آن روی دادگان هدف تسک، کیفیت سیستم بالاتر می‌رود و این موضوع همیشه یک آپشن است"
      ],
      "metadata": {
        "id": "3v-F6qoqPx2c"
      }
    },
    {
      "cell_type": "code",
      "source": [
        "import faiss\n",
        "from uuid import uuid4\n",
        "from langchain_community.docstore.in_memory import InMemoryDocstore\n",
        "from langchain_community.vectorstores import FAISS\n",
        "from langchain_huggingface import HuggingFaceEmbeddings\n",
        "\n",
        "EMBEDDING_MODEL_NAME = \"heydariAI/persian-embeddings\"\n",
        "\n",
        "def setup_vector_store(documents):\n",
        "\n",
        "    embeddings = HuggingFaceEmbeddings(\n",
        "        model_name=EMBEDDING_MODEL_NAME,\n",
        "        model_kwargs={\"device\": \"cuda\"}  # Change to \"cuda\" if GPU available otherwise use \"cpu\"\n",
        "    )\n",
        "\n",
        "    index = faiss.IndexFlatL2(len(embeddings.embed_query(\"life_web\")))\n",
        "\n",
        "    vectorstore = FAISS(\n",
        "        embedding_function=embeddings,\n",
        "        index=index,\n",
        "        docstore=InMemoryDocstore(),\n",
        "        index_to_docstore_id={},\n",
        "    )\n",
        "    uuids = [str(uuid4()) for _ in range(len(documents))]\n",
        "\n",
        "    vectorstore.add_documents(documents=documents, ids=uuids)\n",
        "\n",
        "    return vectorstore.as_retriever(search_type=\"mmr\", search_kwargs={\"k\": 2})"
      ],
      "metadata": {
        "id": "JY2m68A7wRLX"
      },
      "execution_count": null,
      "outputs": []
    },
    {
      "cell_type": "code",
      "source": [
        "retriever = setup_vector_store(data)"
      ],
      "metadata": {
        "colab": {
          "base_uri": "https://localhost:8080/",
          "height": 397,
          "referenced_widgets": [
            "247d987073d24c93ae1ff11352b7a9a1",
            "61a53242d6d44238adaf1e56a9066fce",
            "c60cb204bd204602abd2249d36a2c5ac",
            "55bb2fe901ef43a8a71032cd73b4fa13",
            "358a793f3da449a6b2a51392550c743c",
            "0b004e0c692440f3afc7fafd4da272ce",
            "523365582f624ce1b365563435320262",
            "9f0a96f708a64eefb0d3d6c0ce10a128",
            "ee0f05c0ccc9455db136a6e2ab0dbd91",
            "50d0e06a64364c5e9ca61a8663c5e1e2",
            "4228462d632d4054b8291e1527e812e2",
            "59dc42950f36474e865c829876a50762",
            "30a48b58dd284ae9b2bac9cd58092131",
            "c63a4ea9c1184a88a8eb572612b41d0e",
            "b4712e1996db41b791f718e6113e0044",
            "8aa70f6d9eb0439a82e576300e71289d",
            "3524d40ad7924eb9acab53d1dbf71074",
            "0be68ee928ed48fb84cfc6654c7fa668",
            "176665783cbf4899b83a38e9df73aa42",
            "ad8989e1226b4034815c6d1c345d00fb",
            "4def64d01914414689c0ec60d21809ca",
            "8c35eee28aaa40bbbeaf84e0ee109cf8",
            "672da514b853428caae67f09b9cd67b0",
            "303e1032e20847b598fbe9c9e63a30c7",
            "c5f0e3dc32814d579a16759d4c57cef1",
            "1c1bd47b6a3c478f98f945fc52136b0f",
            "171578cd8dd5449e805490fd368eb5bb",
            "55fb35ea2d034686b6d0d8f03b25bd31",
            "c3bdb0a8a31c4f17bb531a8a071bf0b8",
            "34ad91dcfaa84807aafb4c24f5a53768",
            "d5d7f510f2c041c7a838482eb0980253",
            "f70e5507cfee45caa7bbbb2f68a5c312",
            "fb8998df3318415bb1a8b67feae9ad88",
            "b16ed502256445ac9fbba017406a811b",
            "4cfa7af48976449eaae6d2761617ef94",
            "127e04e5930049509bad587b35e2b30f",
            "fe0d62a848e74e4a8d849eb4ab66bcd3",
            "ae0eee7b34084fe5bbba6b9f88c1b348",
            "ef252024aa1540fdb651b8a2e3b31239",
            "5f44de18f40c450996c9f358404513fd",
            "f9c2e99709a8456f839695d616ca2bdf",
            "55b26555a7244d0a85708e99d4454de8",
            "867cb6c6d118434bbd14b21c2257019d",
            "bdd15aa15b814d77a4268e90f3ac3dfd",
            "f651943702034643bde4608c52882b91",
            "c428480b242d4add84ccbc116bdd48ab",
            "5ced4be711b642c78127a37def9a82a8",
            "e1ee8e2090094019ba0343015da12b8c",
            "35953ad2a00f4c54af4c268ff076491d",
            "7de410a99b164b64a763e1ad5916bd30",
            "1a5f6c275d0d42a6902f7211a28488fa",
            "8719f4fcbd7842b0889a44933e741cad",
            "60c0209697bf484a9d16c675125c743f",
            "c9b4fe2f62a3486787b2aae0d0a371a2",
            "fce033d1e1764bd18d3b4f9cc4270bd7",
            "19851a9a4ddc4c64aa202ea8bd3b5cd2",
            "d9c812c760e045a187fa76aa3e34d5ad",
            "c9be54691e4d415f8cf8c665cd45227d",
            "86adc278b6a64ff5823dbdf617819c15",
            "b3af678bcf2343f68a73e1d47305f3a8",
            "785095fa72af493f81a199ffa83f4fba",
            "cb966e19a9174e619ea18c5548c64e20",
            "a88acd44d7b5459ba18d2210de052b69",
            "7299994287b544fc94f337e711532f13",
            "c6ba9f5bf945406cb86ec29696596435",
            "1bbe5a1fb2b042c08ba511ecde83798d",
            "c952733687554db0840c9a0962853d2d",
            "ce54670348c5474c81eb2acc8f65cc8c",
            "52fbe14ac6d34269b06140c34f213946",
            "06a884b83e324fce8fcb6f90d0ab56a7",
            "9fc8bd7819084e018a76fc895f1b5566",
            "1941727ea5a64687820af7d488a1eeea",
            "3a906ce640b547389ea6f5ab652a79a1",
            "5f6005275e1242beb0263c7693d17285",
            "6136a1e46e7c4b54ad55e868933aceaf",
            "210ae9db0e3f4fcd847bd4a80459f78b",
            "65bd0262ecbe4efd869630b3f812cd74",
            "9598b34cf662404f91234d9079918495",
            "df8993be259a444cab2d183378adb40d",
            "489dde931db54ebd96ceea0924d7408b",
            "8983815bfe9a4b67a8c1212dc5dd4c70",
            "cb797c35acaa4f3e842e025e7ecc8e84",
            "ce0a97d1efac4c0a9cd9eb1680dbfbf3",
            "db876a4b0b5a4c9a8b46611a7b8b2ceb",
            "50044813532b4398825bad3b8366ed55",
            "ce827265a71e46eaa5dcc1bfe413f531",
            "64c7ed36c00f4d99b6732d100070b55e",
            "a988c79edf3e4dd9b3e4466166f74f92"
          ]
        },
        "id": "4diuUOvx-Cbe",
        "outputId": "7d4bb537-c04c-42a8-926c-d82aa3c3591c"
      },
      "execution_count": null,
      "outputs": [
        {
          "output_type": "stream",
          "name": "stderr",
          "text": [
            "/usr/local/lib/python3.11/dist-packages/huggingface_hub/utils/_auth.py:94: UserWarning: \n",
            "The secret `HF_TOKEN` does not exist in your Colab secrets.\n",
            "To authenticate with the Hugging Face Hub, create a token in your settings tab (https://huggingface.co/settings/tokens), set it as secret in your Google Colab and restart your session.\n",
            "You will be able to reuse this secret in all of your notebooks.\n",
            "Please note that authentication is recommended but still optional to access public models or datasets.\n",
            "  warnings.warn(\n"
          ]
        },
        {
          "output_type": "display_data",
          "data": {
            "text/plain": [
              "modules.json:   0%|          | 0.00/229 [00:00<?, ?B/s]"
            ],
            "application/vnd.jupyter.widget-view+json": {
              "version_major": 2,
              "version_minor": 0,
              "model_id": "247d987073d24c93ae1ff11352b7a9a1"
            }
          },
          "metadata": {}
        },
        {
          "output_type": "display_data",
          "data": {
            "text/plain": [
              "README.md:   0%|          | 0.00/3.06k [00:00<?, ?B/s]"
            ],
            "application/vnd.jupyter.widget-view+json": {
              "version_major": 2,
              "version_minor": 0,
              "model_id": "59dc42950f36474e865c829876a50762"
            }
          },
          "metadata": {}
        },
        {
          "output_type": "display_data",
          "data": {
            "text/plain": [
              "config.json:   0%|          | 0.00/707 [00:00<?, ?B/s]"
            ],
            "application/vnd.jupyter.widget-view+json": {
              "version_major": 2,
              "version_minor": 0,
              "model_id": "672da514b853428caae67f09b9cd67b0"
            }
          },
          "metadata": {}
        },
        {
          "output_type": "display_data",
          "data": {
            "text/plain": [
              "model.safetensors:   0%|          | 0.00/2.24G [00:00<?, ?B/s]"
            ],
            "application/vnd.jupyter.widget-view+json": {
              "version_major": 2,
              "version_minor": 0,
              "model_id": "b16ed502256445ac9fbba017406a811b"
            }
          },
          "metadata": {}
        },
        {
          "output_type": "display_data",
          "data": {
            "text/plain": [
              "tokenizer_config.json:   0%|          | 0.00/1.34k [00:00<?, ?B/s]"
            ],
            "application/vnd.jupyter.widget-view+json": {
              "version_major": 2,
              "version_minor": 0,
              "model_id": "f651943702034643bde4608c52882b91"
            }
          },
          "metadata": {}
        },
        {
          "output_type": "display_data",
          "data": {
            "text/plain": [
              "tokenizer.json:   0%|          | 0.00/17.1M [00:00<?, ?B/s]"
            ],
            "application/vnd.jupyter.widget-view+json": {
              "version_major": 2,
              "version_minor": 0,
              "model_id": "19851a9a4ddc4c64aa202ea8bd3b5cd2"
            }
          },
          "metadata": {}
        },
        {
          "output_type": "display_data",
          "data": {
            "text/plain": [
              "special_tokens_map.json:   0%|          | 0.00/964 [00:00<?, ?B/s]"
            ],
            "application/vnd.jupyter.widget-view+json": {
              "version_major": 2,
              "version_minor": 0,
              "model_id": "c952733687554db0840c9a0962853d2d"
            }
          },
          "metadata": {}
        },
        {
          "output_type": "display_data",
          "data": {
            "text/plain": [
              "config.json:   0%|          | 0.00/271 [00:00<?, ?B/s]"
            ],
            "application/vnd.jupyter.widget-view+json": {
              "version_major": 2,
              "version_minor": 0,
              "model_id": "9598b34cf662404f91234d9079918495"
            }
          },
          "metadata": {}
        }
      ]
    },
    {
      "cell_type": "markdown",
      "source": [
        "# Loading the Large Language Model"
      ],
      "metadata": {
        "id": "MgVJHQVaPq4y"
      }
    },
    {
      "cell_type": "markdown",
      "source": [
        "بازهم مانند مدل بازنمایی، در مورد مدل‌زبانی بزرگ هم ترجیح من استفاده از آپشن‌های متن‌باز بوده. مدل لاما از ورژن 3 به بعد روی متون فارسی طبق تجربه‌ام خوب جواب می‌دهد و همچنین جواب دادن به سوالات مربوط به اخبار فارسی تسک آن‌چنان سختی به نظر نمیاید که نیاز به مدل‌های بسیار بزرگ با منظق و قدرت تحلیل استثنایی وجود داشته باشد\n",
        "\n",
        "مدل لاما از طریق گروک استفاده شده است که پرامپت فرستاده می‌شود و در فضای ابری پردازش می‌شود و پاسخ دریافت می‌شود\n",
        "\n",
        "درصورت لزوم از این مدل‌های رایگان می‌توان به صورت لوکال هم از طریق اولاما یا ابزارهای مشابه بهره جست\n",
        "\n",
        "یقینا درصورت جواب موردتایید نگرفتن، تغییر مدل زبانی بزرگ نیز همیشه یک آپشن است"
      ],
      "metadata": {
        "id": "yupEeybLRDD9"
      }
    },
    {
      "cell_type": "code",
      "source": [
        "from langchain_groq import ChatGroq\n",
        "import getpass\n",
        "\n",
        "GROQ_MODEL = \"llama-3.3-70b-versatile\"\n",
        "GROQ_API_KEY = getpass.getpass(\"GROQ_API_KEY: \")\n",
        "\n",
        "def setup_groq_model(model_name, api_key=None):\n",
        "    return ChatGroq(\n",
        "        temperature=0.4,\n",
        "        model_name=model_name,\n",
        "        groq_api_key=api_key\n",
        "    )\n",
        "\n",
        "llm = setup_groq_model(GROQ_MODEL, GROQ_API_KEY)"
      ],
      "metadata": {
        "id": "7ywRob9ewRbh"
      },
      "execution_count": null,
      "outputs": []
    },
    {
      "cell_type": "markdown",
      "source": [
        "# Simple RAG Using Pure LangChain"
      ],
      "metadata": {
        "id": "jhr_jn-pPRiJ"
      }
    },
    {
      "cell_type": "markdown",
      "source": [
        "باکس زیر، یک سیستم رگ بسیار ساده با یک زنجیره لنگ‌چین است که بصورت پیشفرض همیشه برای سوال بازیابی اطلاعات را انجام می‌دهد و بر اساس فایل‌هایی که بازیابی شده، جواب را تولید می‌کند\n",
        "\n",
        "سیستم فقط یکبار اجرا می‌شود و حافظه‌ای ندارد سازوکاری برای سوالاتی که اصلا برای آن‌ها نباید بازیابی اطلاعات انجام شود اندیشیده نشده است.\n",
        "اگر به همین حد بسنده شود، می‌توان از زنجیره زیر بهره برد\n",
        "\n",
        "در قسمت بعدی سیستم رگ پیچیده‌تر و کاراتری را پیاده کرده‌ام"
      ],
      "metadata": {
        "id": "PoETDn5AS0ge"
      }
    },
    {
      "cell_type": "code",
      "source": [
        "from langchain_core.prompts import ChatPromptTemplate\n",
        "from langchain_core.output_parsers import StrOutputParser\n",
        "from langchain_core.runnables import RunnablePassthrough\n",
        "\n",
        "def get_persian_prompt():\n",
        "    template = \"\"\"As a helpful AI assistant, you have to answer to the questions based on the provided context.\n",
        "    Context is from Persian news.\n",
        "    If you don't know the correct answer, respond with \"من یک دستیار هوش مصنوعی هستم و بر اساس اطلاعاتی که در اختیار من گذاشته‌شده است، در حال حاضر جواب دقیقی برای پرسش شما ندارم.\" and don't hallucinate.\n",
        "    Otherwise if user greets or speaks not about any specific matter which needs RAG, treat like a normal and polite AI chatbot and answer, Like greetings, thanking, excusing etc.\n",
        "\n",
        "    Context:\n",
        "    {context}\n",
        "\n",
        "    Question:\n",
        "    {question}\n",
        "\n",
        "    Answer: \"\"\"\n",
        "    return ChatPromptTemplate.from_template(template)\n",
        "\n",
        "def build_rag_chain(retriever, llm, prompt):\n",
        "    return (\n",
        "        {\"context\": retriever, \"question\": RunnablePassthrough()}\n",
        "        | prompt\n",
        "        | llm\n",
        "        | StrOutputParser()\n",
        "    )\n",
        "\n",
        "prompt = get_persian_prompt()\n",
        "rag_chain = build_rag_chain(retriever, llm, prompt)"
      ],
      "metadata": {
        "id": "EFo3lirDAFeY"
      },
      "execution_count": null,
      "outputs": []
    },
    {
      "cell_type": "code",
      "source": [
        "response = rag_chain.invoke(\"قوه قضائیه در مورد فساد اقتصادی چه کارهایی انجام داده است؟\")\n",
        "print(response)"
      ],
      "metadata": {
        "colab": {
          "base_uri": "https://localhost:8080/"
        },
        "id": "2DjT9nwqHd9x",
        "outputId": "1e0a2690-b72b-462c-91d5-5179b52544d2"
      },
      "execution_count": null,
      "outputs": [
        {
          "output_type": "stream",
          "name": "stdout",
          "text": [
            "قوه قضائیه در مورد فساد اقتصادی اقداماتی انجام داده است. به عنوان مثال، در پرونده فساد پتروشیمی جم، قوه قضائیه با محکومیت متهمین و بازگرداندن بخشی از مبلغ فساد اقتصادی به صندوق دولت، اقداماتی را انجام داده است. همچنین، با پیگیری‌های دادگستری تهران و قوه قضائیه، تلاش‌ها برای بازگرداندن مبلغ باقی‌مانده ادامه دارد.\n"
          ]
        }
      ]
    },
    {
      "cell_type": "markdown",
      "source": [
        "# Multiturn Conversational RAG system built using LangGraph"
      ],
      "metadata": {
        "id": "lztRDU6_KP1E"
      }
    },
    {
      "cell_type": "markdown",
      "source": [
        "در این بخش با استفاده از لنگ‌گراف یک سیستم گفتگوی دارای حافظه که تصمیم میگیرد از بازیابی اطلاعات استفاده کند یا نکند پیاده کردم\n",
        "\n",
        "در وهله اول مدل زبانی با توجه به پرامپت کاربر تصمیم میگیرد که آیا باید از بازیابی اطلاعات استفاده شود یا خیر. پیام های معمولی مثل سلام یا تشکر در همین مرحله فورا جواب داده می‌شوند. اگر قرار باشد از رگ استفاده شود، یک تابع از پایگاه داده اطلاعات را بازیابی می‌کند و دوباره در اختیار مدل زبانی قرار می‌دهد\n",
        "\n",
        "مدل زبانی در مورد مسائل تخصصی که در پایگاه داده‌اش اطلاعاتی ندارد، نباید جوابی بدهد\n",
        "\n",
        "وقتی جواب به کاربر نمایش داده شد، سیستم برای سوال بعدی از کاربر ورودی می گیرد و این چرخه دوباره تکرار می‌شود. در پاسخ سوال‌های بعدی، تاریخچه گفتگو در نظر گرفته می‌شود"
      ],
      "metadata": {
        "id": "ypiLcnlwK1EL"
      }
    },
    {
      "cell_type": "code",
      "source": [
        "from langgraph.checkpoint.memory import MemorySaver\n",
        "from langgraph.graph import START, MessagesState, StateGraph, END\n",
        "from langchain_core.messages import AIMessage, HumanMessage, SystemMessage, ChatMessage, FunctionMessage\n",
        "from langchain_core.prompts import ChatPromptTemplate, MessagesPlaceholder\n",
        "\n",
        "# Define the function that calls the model\n",
        "def first_llm_call(state: MessagesState):\n",
        "    system_prompt = (\n",
        "        \"You are a helpful assistant which has to work in a multiturn RAG system.\"\n",
        "        \"You have to consider user prompt and decide if it is a specialized questoin which needs to enter RAG pipeline or not.\"\n",
        "        \"The data you have in disposal for RAG, contains Persian news articles\"\n",
        "        \"If the question needs to invoke RAG system, answer just with 'rag'.\"\n",
        "        \"Otherwise If user prompts you with normal chat, like greeting or thanking or anything else, answer like a polite and normal chatbot.\"\n",
        "        \"consider chat history in order to answer, but always emphesize on the last user prompt in order to decide.\"\n",
        "    )\n",
        "    messages = [SystemMessage(content=system_prompt)] + state[\"messages\"]\n",
        "    response = llm.invoke(messages)\n",
        "    return {\"messages\": response}\n",
        "\n",
        "def planner(state: MessagesState):\n",
        "  if \"rag\" in state[\"messages\"][-1].content:\n",
        "    return \"rag\"\n",
        "  else:\n",
        "    return \"else\"\n",
        "\n",
        "def retrieve (state: MessagesState):\n",
        "  retrieved_info = retriever.invoke(state[\"messages\"][-2].content)[0].page_content\n",
        "  return {\"messages\": FunctionMessage(content=retrieved_info.replace(\"content\", \"context 1\") + retrieved_info.replace(\"content\", \"context 2\") , name=\"retrieval\")}\n",
        "\n",
        "def rag_llm_call(state: MessagesState):\n",
        "  prompt = ChatPromptTemplate.from_messages(\n",
        "    [\n",
        "        SystemMessage(\n",
        "            content=\"\"\"\n",
        "              As a helpful AI assistant, you have to answer to the questions based on the provided context.\n",
        "              Context is from Persian news articles.\n",
        "              If you don't know the correct answer, respond with\n",
        "              \"من یک دستیار هوش مصنوعی هستم و بر اساس اطلاعاتی که در اختیار من گذاشته‌شده است، در حال حاضر جواب دقیقی برای پرسش شما ندارم.\"\n",
        "              and don't hallucinate but try to not repeat yourself and generate innovative but correct and truthful answers.\n",
        "              consider chat history in order to answer the user.\n",
        "              \"\"\"\n",
        "              ),\n",
        "        MessagesPlaceholder(variable_name=\"messages\")\n",
        "    ]\n",
        ")\n",
        "  chain = prompt | llm\n",
        "  response = chain.invoke(\n",
        "    {\n",
        "        \"messages\": state[\"messages\"]\n",
        "    }\n",
        ")\n",
        "  return {\"messages\": response}\n",
        "\n",
        "workflow = StateGraph(state_schema=MessagesState)\n",
        "workflow.add_node(\"start\", first_llm_call)\n",
        "workflow.add_node(\"retrieve\", retrieve)\n",
        "workflow.add_node(\"rag\", rag_llm_call)\n",
        "\n",
        "workflow.add_edge(START, \"start\")\n",
        "workflow.add_edge(\"retrieve\", \"rag\")\n",
        "workflow.add_edge(\"rag\", END)\n",
        "\n",
        "workflow.add_conditional_edges(\n",
        "    \"start\",\n",
        "    planner,\n",
        "    {\n",
        "        \"rag\": \"retrieve\",\n",
        "        \"else\": END\n",
        "    }\n",
        ")\n",
        "\n",
        "memory = MemorySaver()\n",
        "app = workflow.compile(checkpointer=memory)"
      ],
      "metadata": {
        "id": "DoCSegWsFOR8"
      },
      "execution_count": null,
      "outputs": []
    },
    {
      "cell_type": "code",
      "source": [
        "from IPython.display import display, HTML\n",
        "\n",
        "greet_message = \"\"\"\n",
        "سلام. امیدوارم حالتان خوب باشد.<br>\n",
        "من یک دستیار گفتگوی هوشمند هستم و با توجه به اطلاعاتی که در اختیارم گذاشته شده به سوالات شما پاسخ می‌دهم.<br>\n",
        "چگونه می‌توان کمکتان کنم؟<br>\n",
        "\"\"\"\n",
        "\n",
        "def pretty_greet(greet_message):\n",
        "    display(HTML(f\"\"\"\n",
        "        <div dir=\"rtl\" style=\"text-align:right; font-family:Tahoma; color:black;\">\n",
        "            {greet_message}\n",
        "        </div>\n",
        "    \"\"\"))\n",
        "\n",
        "def pretty_prompt():\n",
        "    display(HTML(\"\"\"\n",
        "        <div dir=\"rtl\" style=\"text-align:right; font-family:Tahoma; color:black;\">\n",
        "            🔷 سوال خود را بنویسید (یا 'خ' برای خروج):\n",
        "        </div>\n",
        "    \"\"\"))\n",
        "\n",
        "def pretty_print_user():\n",
        "    display(HTML(f\"\"\"\n",
        "        <div dir=\"rtl\" style=\"text-align:right; font-family:Tahoma; color:blue;\">\n",
        "            👤:\n",
        "        </div>\n",
        "    \"\"\"))\n",
        "\n",
        "def pretty_print_bot(message):\n",
        "    display(HTML(f\"\"\"\n",
        "        <div dir=\"rtl\" style=\"text-align:right; font-family:Tahoma; color:green;\">\n",
        "            🤖: {message}\n",
        "        </div>\n",
        "    \"\"\"))\n",
        "\n",
        "def pretty_print_end(message):\n",
        "    display(HTML(f\"\"\"\n",
        "        <div dir=\"rtl\" style=\"text-align:right; font-family:Tahoma; color:red;\">\n",
        "            🔚 {message}\n",
        "        </div>\n",
        "    \"\"\"))"
      ],
      "metadata": {
        "id": "mffMBpi4yhco"
      },
      "execution_count": null,
      "outputs": []
    },
    {
      "cell_type": "code",
      "source": [
        "def start_chat(thread_id):\n",
        "  pretty_greet(greet_message)\n",
        "  while True:\n",
        "      pretty_prompt()\n",
        "      pretty_print_user()\n",
        "      user_input = input()\n",
        "      if user_input.strip() == \"خ\":\n",
        "          pretty_print_end(\"گفت‌وگو پایان یافت.\")\n",
        "          break\n",
        "      else:\n",
        "          result = app.invoke(\n",
        "            {\"messages\": [HumanMessage(content=str(user_input))]},\n",
        "            config={\"configurable\": {\"thread_id\": str(thread_id)}},\n",
        "            )\n",
        "          # print(result)\n",
        "          pretty_print_bot(result['messages'][-1].content)\n",
        "          # pretty_print_bot(\"پیام دریافت شد.\")\n",
        "  for msg in result['messages']:\n",
        "    print(msg)"
      ],
      "metadata": {
        "id": "UUKdDIa5DhPk"
      },
      "execution_count": null,
      "outputs": []
    },
    {
      "cell_type": "code",
      "source": [
        "start_chat(thread_id=1)"
      ],
      "metadata": {
        "colab": {
          "base_uri": "https://localhost:8080/",
          "height": 922
        },
        "id": "JPAh4SnL-lHd",
        "outputId": "93fcaeb5-8225-408c-bd05-ae9ae2dab6e0"
      },
      "execution_count": null,
      "outputs": [
        {
          "output_type": "display_data",
          "data": {
            "text/plain": [
              "<IPython.core.display.HTML object>"
            ],
            "text/html": [
              "\n",
              "        <div dir=\"rtl\" style=\"text-align:right; font-family:Tahoma; color:black;\">\n",
              "            \n",
              "سلام. امیدوارم حالتان خوب باشد.<br>\n",
              "من یک دستیار گفتگوی هوشمند هستم و با توجه به اطلاعاتی که در اختیارم گذاشته شده به سوالات شما پاسخ می‌دهم.<br>\n",
              "چگونه می‌توان کمکتان کنم؟<br>\n",
              "\n",
              "        </div>\n",
              "    "
            ]
          },
          "metadata": {}
        },
        {
          "output_type": "display_data",
          "data": {
            "text/plain": [
              "<IPython.core.display.HTML object>"
            ],
            "text/html": [
              "\n",
              "        <div dir=\"rtl\" style=\"text-align:right; font-family:Tahoma; color:black;\">\n",
              "            🔷 سوال خود را بنویسید (یا 'خ' برای خروج):\n",
              "        </div>\n",
              "    "
            ]
          },
          "metadata": {}
        },
        {
          "output_type": "display_data",
          "data": {
            "text/plain": [
              "<IPython.core.display.HTML object>"
            ],
            "text/html": [
              "\n",
              "        <div dir=\"rtl\" style=\"text-align:right; font-family:Tahoma; color:blue;\">\n",
              "            👤:\n",
              "        </div>\n",
              "    "
            ]
          },
          "metadata": {}
        },
        {
          "name": "stdout",
          "output_type": "stream",
          "text": [
            "سلام. خوبی؟\n"
          ]
        },
        {
          "output_type": "display_data",
          "data": {
            "text/plain": [
              "<IPython.core.display.HTML object>"
            ],
            "text/html": [
              "\n",
              "        <div dir=\"rtl\" style=\"text-align:right; font-family:Tahoma; color:green;\">\n",
              "            🤖: سلام، ممنون. خوبم. شما چطورید؟\n",
              "        </div>\n",
              "    "
            ]
          },
          "metadata": {}
        },
        {
          "output_type": "display_data",
          "data": {
            "text/plain": [
              "<IPython.core.display.HTML object>"
            ],
            "text/html": [
              "\n",
              "        <div dir=\"rtl\" style=\"text-align:right; font-family:Tahoma; color:black;\">\n",
              "            🔷 سوال خود را بنویسید (یا 'خ' برای خروج):\n",
              "        </div>\n",
              "    "
            ]
          },
          "metadata": {}
        },
        {
          "output_type": "display_data",
          "data": {
            "text/plain": [
              "<IPython.core.display.HTML object>"
            ],
            "text/html": [
              "\n",
              "        <div dir=\"rtl\" style=\"text-align:right; font-family:Tahoma; color:blue;\">\n",
              "            👤:\n",
              "        </div>\n",
              "    "
            ]
          },
          "metadata": {}
        },
        {
          "name": "stdout",
          "output_type": "stream",
          "text": [
            "قوه قضائیه در مورد فساد مالی چه کارهایی کرده است؟\n"
          ]
        },
        {
          "output_type": "display_data",
          "data": {
            "text/plain": [
              "<IPython.core.display.HTML object>"
            ],
            "text/html": [
              "\n",
              "        <div dir=\"rtl\" style=\"text-align:right; font-family:Tahoma; color:green;\">\n",
              "            🤖: قوه قضائیه در مورد فساد مالی اقدامات متعددی انجام داده است. از جمله این اقدامات می‌توان به تشکیل دادسراهای تخصصی برای رسیدگی به جرایم اقتصادی و مالی، افزایش نظارت بر دستگاه‌های دولتی و نهادهای عمومی، و پیگیری پرونده‌های فساد مالی اشاره کرد. همچنین، قوه قضائیه تلاش کرده است تا با همکاری سایر دستگاه‌های دولتی و نهادهای مربوطه، به مبارزه با فساد مالی و اقتصادی بپردازد و از این طریق به sécurité و استحکام اقتصادی کشور کمک کند.\n",
              "        </div>\n",
              "    "
            ]
          },
          "metadata": {}
        },
        {
          "output_type": "display_data",
          "data": {
            "text/plain": [
              "<IPython.core.display.HTML object>"
            ],
            "text/html": [
              "\n",
              "        <div dir=\"rtl\" style=\"text-align:right; font-family:Tahoma; color:black;\">\n",
              "            🔷 سوال خود را بنویسید (یا 'خ' برای خروج):\n",
              "        </div>\n",
              "    "
            ]
          },
          "metadata": {}
        },
        {
          "output_type": "display_data",
          "data": {
            "text/plain": [
              "<IPython.core.display.HTML object>"
            ],
            "text/html": [
              "\n",
              "        <div dir=\"rtl\" style=\"text-align:right; font-family:Tahoma; color:blue;\">\n",
              "            👤:\n",
              "        </div>\n",
              "    "
            ]
          },
          "metadata": {}
        },
        {
          "name": "stdout",
          "output_type": "stream",
          "text": [
            "دیگر به جز اینها چه اقداماتی انجام شده. بیشتر میتونی بهم بگی؟\n"
          ]
        },
        {
          "output_type": "display_data",
          "data": {
            "text/plain": [
              "<IPython.core.display.HTML object>"
            ],
            "text/html": [
              "\n",
              "        <div dir=\"rtl\" style=\"text-align:right; font-family:Tahoma; color:green;\">\n",
              "            🤖: بله، قوه قضائیه در مورد فساد مالی اقدامات دیگری نیز انجام داده است. از جمله این اقدامات می‌توان به:\n",
              "\n",
              "1. تشکیل دادگاه‌های تخصصی برای رسیدگی به جرایم اقتصادی و مالی\n",
              "2. افزایش نظارت بر دستگاه‌های دولتی و نهادهای عمومی\n",
              "3. پیگیری پرونده‌های فساد مالی و اقتصادی\n",
              "4. همکاری با سایر دستگاه‌های دولتی و نهادهای مربوطه برای مبارزه با فساد مالی و اقتصادی\n",
              "5. ایجاد نظام نظارتی برای پیشگیری از فساد مالی و اقتصادی\n",
              "6. آموزش و آگاهی‌بخشی به کارکنان دستگاه‌های دولتی و نهادهای عمومی در مورد مبارزه با فساد مالی و اقتصادی\n",
              "7. ایجاد نظام گزارش‌دهی و شکایت از فساد مالی و اقتصادی\n",
              "8. پیگیری و مجازات افراد و نهادهای متخلف در زمینه فساد مالی و اقتصادی\n",
              "9. ایجاد نظام شفافیت و پاسخگویی در دستگاه‌های دولتی و نهادهای عمومی\n",
              "10. همکاری با سازمان‌های بین‌المللی برای مبارزه با فساد مالی و اقتصادی\n",
              "\n",
              "همچنین، قوه قضائیه تلاش کرده است تا با استفاده از فناوری‌های نوین، مبارزه با فساد مالی و اقتصادی را تقویت کند. از جمله این اقدامات می‌توان به:\n",
              "\n",
              "1. ایجاد سامانه‌های الکترونیکی برای گزارش‌دهی و شکایت از فساد مالی و اقتصادی\n",
              "2. استفاده از سیستم‌های هوشمند برای رصد و نظارت بر فعالیت‌های اقتصادی و مالی\n",
              "3. ایجاد پایگاه‌های داده برای جمع‌آوری و分析 اطلاعات در مورد فساد مالی و اقتصادی\n",
              "\n",
              "این اقدامات نشان می‌دهد که قوه قضائیه تلاش کرده است تا با استفاده از ابزارهای مختلف، مبارزه با فساد مالی و اقتصادی را تقویت کند و از این طریق به امنیت و استحکام اقتصادی کشور کمک کند.\n",
              "        </div>\n",
              "    "
            ]
          },
          "metadata": {}
        },
        {
          "output_type": "display_data",
          "data": {
            "text/plain": [
              "<IPython.core.display.HTML object>"
            ],
            "text/html": [
              "\n",
              "        <div dir=\"rtl\" style=\"text-align:right; font-family:Tahoma; color:black;\">\n",
              "            🔷 سوال خود را بنویسید (یا 'خ' برای خروج):\n",
              "        </div>\n",
              "    "
            ]
          },
          "metadata": {}
        },
        {
          "output_type": "display_data",
          "data": {
            "text/plain": [
              "<IPython.core.display.HTML object>"
            ],
            "text/html": [
              "\n",
              "        <div dir=\"rtl\" style=\"text-align:right; font-family:Tahoma; color:blue;\">\n",
              "            👤:\n",
              "        </div>\n",
              "    "
            ]
          },
          "metadata": {}
        },
        {
          "name": "stdout",
          "output_type": "stream",
          "text": [
            "ممنون\n"
          ]
        },
        {
          "output_type": "display_data",
          "data": {
            "text/plain": [
              "<IPython.core.display.HTML object>"
            ],
            "text/html": [
              "\n",
              "        <div dir=\"rtl\" style=\"text-align:right; font-family:Tahoma; color:green;\">\n",
              "            🤖: خواهش می‌کنم! امیدوارم که اطلاعات مفیدی برایتان فراهم کرده باشم. اگر سوالی دیگر دارید، در خدمتم!\n",
              "        </div>\n",
              "    "
            ]
          },
          "metadata": {}
        },
        {
          "output_type": "display_data",
          "data": {
            "text/plain": [
              "<IPython.core.display.HTML object>"
            ],
            "text/html": [
              "\n",
              "        <div dir=\"rtl\" style=\"text-align:right; font-family:Tahoma; color:black;\">\n",
              "            🔷 سوال خود را بنویسید (یا 'خ' برای خروج):\n",
              "        </div>\n",
              "    "
            ]
          },
          "metadata": {}
        },
        {
          "output_type": "display_data",
          "data": {
            "text/plain": [
              "<IPython.core.display.HTML object>"
            ],
            "text/html": [
              "\n",
              "        <div dir=\"rtl\" style=\"text-align:right; font-family:Tahoma; color:blue;\">\n",
              "            👤:\n",
              "        </div>\n",
              "    "
            ]
          },
          "metadata": {}
        },
        {
          "name": "stdout",
          "output_type": "stream",
          "text": [
            "در مورد استعفای وزیر کشور میانمار که جدیدا اتفاق افتاده به من توضیح بده.\n"
          ]
        },
        {
          "output_type": "display_data",
          "data": {
            "text/plain": [
              "<IPython.core.display.HTML object>"
            ],
            "text/html": [
              "\n",
              "        <div dir=\"rtl\" style=\"text-align:right; font-family:Tahoma; color:green;\">\n",
              "            🤖: من یک دستیار هوش مصنوعی هستم و بر اساس اطلاعاتی که در اختیار من گذاشته‌شده است، در حال حاضر جواب دقیقی برای پرسش شما ندارم.\n",
              "        </div>\n",
              "    "
            ]
          },
          "metadata": {}
        },
        {
          "output_type": "display_data",
          "data": {
            "text/plain": [
              "<IPython.core.display.HTML object>"
            ],
            "text/html": [
              "\n",
              "        <div dir=\"rtl\" style=\"text-align:right; font-family:Tahoma; color:black;\">\n",
              "            🔷 سوال خود را بنویسید (یا 'خ' برای خروج):\n",
              "        </div>\n",
              "    "
            ]
          },
          "metadata": {}
        },
        {
          "output_type": "display_data",
          "data": {
            "text/plain": [
              "<IPython.core.display.HTML object>"
            ],
            "text/html": [
              "\n",
              "        <div dir=\"rtl\" style=\"text-align:right; font-family:Tahoma; color:blue;\">\n",
              "            👤:\n",
              "        </div>\n",
              "    "
            ]
          },
          "metadata": {}
        },
        {
          "name": "stdout",
          "output_type": "stream",
          "text": [
            "خ\n"
          ]
        },
        {
          "output_type": "display_data",
          "data": {
            "text/plain": [
              "<IPython.core.display.HTML object>"
            ],
            "text/html": [
              "\n",
              "        <div dir=\"rtl\" style=\"text-align:right; font-family:Tahoma; color:red;\">\n",
              "            🔚 گفت‌وگو پایان یافت.\n",
              "        </div>\n",
              "    "
            ]
          },
          "metadata": {}
        },
        {
          "output_type": "stream",
          "name": "stdout",
          "text": [
            "content='سلام. خوبی؟' additional_kwargs={} response_metadata={} id='24e03128-0d96-4a1b-bfb1-211e56132c8a'\n",
            "content='سلام، ممنون. خوبم. شما چطورید؟' additional_kwargs={} response_metadata={'token_usage': {'completion_tokens': 14, 'prompt_tokens': 158, 'total_tokens': 172, 'completion_time': 0.085279468, 'prompt_time': 0.017589253, 'queue_time': 0.219455321, 'total_time': 0.102868721}, 'model_name': 'llama-3.3-70b-versatile', 'system_fingerprint': 'fp_2ddfbb0da0', 'finish_reason': 'stop', 'logprobs': None} id='run--3641b7b7-d592-45c2-af4d-55221e8a486b-0' usage_metadata={'input_tokens': 158, 'output_tokens': 14, 'total_tokens': 172}\n",
            "content='قوه قضائیه در مورد فساد مالی چه کارهایی کرده است؟' additional_kwargs={} response_metadata={} id='551d3a3c-c7c2-4e9d-98c6-db6e0d5466f0'\n",
            "content='rag' additional_kwargs={} response_metadata={'token_usage': {'completion_tokens': 2, 'prompt_tokens': 197, 'total_tokens': 199, 'completion_time': 0.017031633, 'prompt_time': 0.012168042, 'queue_time': 0.055820817999999994, 'total_time': 0.029199675}, 'model_name': 'llama-3.3-70b-versatile', 'system_fingerprint': 'fp_2ddfbb0da0', 'finish_reason': 'stop', 'logprobs': None} id='run--b7f3d18e-b592-4783-96a6-17ab9bd219b5-0' usage_metadata={'input_tokens': 197, 'output_tokens': 2, 'total_tokens': 199}\n",
            "content='context 1: کد خبر :\\n613556\\n|\\n1402/02/29 15:24:28\\nاعتمادانلاین |\\nحجت\\u200cالاسلام والمسلمین محسنی اژه\\u200cای ، رییس قوه قضاییه طی سخنانی در بیست\\u200cوسومین همایش دادستان\\u200cهای عمومی و انقلاب ، نظامی و ویژه روحانیت سراسر کشور در مشهد مقدس ، با بیان اینکه دادستان\\u200cها در صف مقدم رسیدگی به مسائل کیفری هستند ، اظهار کرد : ما در جایگاهی حقوقی قرار داریم که می\\u200cتوانیم از طریق این جایگاه به نحو احسن به مردم ، نظام و کشور خدمت کنیم و در مسیر ارمان\\u200cهای والای انقلاب اسلامی و ستاندن حق مظلوم از ظالم ، گام برداریم .\\nبه گزارش میزان ، بخش هایی از اظهارات اژه ای را در ادامه می\\u200cخوانید :\\nباید بررسی کنیم که ایا در اموری نظیر ایجاد امنیت اعم از روانی و فیزیکی ، دفع شر و اشرار ، استیفای حق ، راست کردن کجی\\u200cها ، جلوگیری از ایجاد کجی\\u200cها و ... نقش\\u200cافرینی اثرگذار داشته\\u200cایم یا خیر ؟ اگر پاسخ منفی است باید ببینیم ضعف\\u200cها و نواقص کجاست و مجدانه در جهت رفع ان\\u200cها اقدام کنیم .\\xa0 هدف اصلی دشمنان مقابله با نظام اسلامی و ولایی ما است .\\nگاهی یک فرد گمراه و اهل ضلالت ، خود را در صف افراد مومن قرار می\\u200cدهد ؛ در این قبیل موارد باید نهایت هوشیاری و تدبیر را به خرج دهیم .\\nدشمنان برای پیشبرد توطئه\\u200cها و نقشه\\u200cهای خود روش\\u200cهای مختلفی را به کار می\\u200cبندند ؛ در برخی موارد ، راهبرد دشمن ایجاد اختلاف میان مردم و دوقطبی\\u200cسازی و چندقطبی\\u200cسازی در جامعه پیرامون یک سوژه است .\\nدر برخی موارد ، راهبرد دشمن ایجاد اختلاف میان مسئولان است ؛ در مواردی نیز راهبرد دشمن متمرکز بر ایجاد اختلاف میان مسئولان و مردم است ؛ حال سوال اساسی ان است که باید در مقابله با این راهبردهای دشمن ، چه تمهیدات و تدابیری را اتخاذ کرد ؟\\nما باید در وهله اول ، به بیانات امام و مقتدای خود توجه کرده و شرایط کشور را درک کنیم و بدانیم که مسئله اصلی و اولویت\\u200cدار کشور ، مسئله اقتصادی است ؛ چنانچه مشکلات اقتصادی مرتفع نشود به تبع ان ، مسائل و مشکلات فرهنگی و اجتماعی و امنیتی ایجاد می\\u200cگردد و به دنبال این امر ، بر حجم پرونده\\u200cهای قضایی نیز افزوده می\\u200cشود .\\nمتاسفانه شورای\\u200cعالی هماهنگی اقتصادی سران قوا با توجه به اختیارات و ظرفیت\\u200cهایی که داشت ، نتوانست به نحو مطلوبی عمل کند ؛ لذا باید نواقص و کاستی\\u200cهای موجود در امر تجمیع قوا و هماهنگی\\u200cها ، برای غلبه بر مسائل و مشکلات اقتصادی مرتفع گردد .\\nهمه مسئولان و دستگاه\\u200cهای ذی\\u200cربط کشور ، در امر غلبه بر مسائل و مشکلات اقتصادی باید با تمام قوا ورود داشته باشند ؛ ما نیز در قوه قضاییه ضروری است که بدانیم چه کارهایی را در رابطه با موضوع فوق\\u200cالذکر باید انجام دهیم و از چه کارهایی باید اجتناب کنیم ؛ باید همواره این سوال را از خود مطرح کنیم ایا امکان ان وجود ندارد که دشمن در بین خود ما اختلاف بیفکند ؟\\nدر مورد قوه قضاییه نقد ، اعتراض یا هجمه می\\u200cشود ، اعتراض و انتقاد گاهی در قالب نقد بر ضعفی است ؛ ما بارها اعلام کرده\\u200cایم که از نقد سازنده و خیرخواهانه استقبال کرده و درصدد رفع ضعف\\u200cها و کاستی\\u200cهای خود برمی\\u200cاییم ؛ اما گاهی هم هجمه\\u200cهایی که در قالب نقد علیه قوه قضاییه مطرح می\\u200cشود با واقعیت همخوانی ندارند و تحریف و تخریب محسوب می\\u200cشوند .\\nدر مواردی ، ضعف\\u200cها و مشکلات در دستگاه قضایی ناشی از اشکالات موجود در یک ساختار یا تشکیلات است ؛ تجربه نشان داده است که برای رفع این قبیل مشکلات باید به جای ایجاد ساختارها و تشکیلات موازی ، به تقویت ان ساختار و تشکیلات دارای اشکال و ضعف بپردازیم و با هم\\u200cافزایی و کمک یکدیگر در دستگاه قضایی ، بدون انکه ذره\\u200cای در فکر تضعیف یکدیگر باشیم به برطرف کردن نقاط ضعف مبادرت ورزیم .\\nبسیاری از مجازات\\u200cهای مقرر شده در قوانین ، تعزیری هستند و برای ان\\u200cها « اقل » و « اکثر » لحاظ شده است ؛ در این قبیل موارد ، دست قاضی باز است و می\\u200cتواند چنانچه مجازات « اقل » کارساز و بازدارنده نیست ، مجازات « اکثر » را اعمال کند ؛ در مواردی نیز به اقتضای شرایط و یا شایسته\\u200cی ارفاق بودن محکوم ، باید مجازات « اقل » را تجویز کرد .\\nاکنون که در سال 1402 قرار داریم ، مسئول قضایی ذیربط ما باید جمیع شرایط و اقتضائات را لحاظ کند و ضمن اهتمام کامل به موازین و اصول قانونی ، بداند که کجا و در قبال چه محکوم و جرمی باید از تاسیسات ارفاقی بهره بگیرد ؟ در چه مواردی حکم به جزای نقدی دهد ؟ این حکم به جزای نقدی دادن ، به چه صورت و کیفیت باشد که بازدارندگی ایجاد کند ؟ کدام دسته از محکومان می\\u200cتوانند مشمول عفو قرار گیرند و کدام دسته نمی\\u200cتوانند ؟\\nدادستان\\u200cهای سراسر کشور مقوله « تامین امنیت سرمایه\\u200cگذاری » و « حمایت از چرخه تولید و اشتغال » را مجدانه پیگیری کنند و با فعالان اقتصادی و تولیدی جلساتی را برگزار کرده و در صدد رفع مشکلات ان\\u200cها برایند ؛ همچنین در قبال ان دسته از فعالان اقتصادی و تولیدی که اتهامی متوجه ان\\u200cها می\\u200cشود ، نهایت تدبیر را به خرج دهند که در اثر این انتساب اتهام ، فعالیت تولیدی و اشتغالزایی ان\\u200cها مخدوش نشود ؛ شاید در همه موارد نیازی به ممنوع\\u200cالخروج و ممنوع\\u200cالمعامله کردن یک فرد متهم نباشد ؛ در همه موارد نیاز به صدور قرار بازداشت متهم نیست .\\nدادستان\\u200cها و مسئولان ذی\\u200cربط قضایی در رسیدگی و تکمیل پرونده\\u200cهای ناظر بر موضوعات اقتصادی و تولیدی از نقطه\\u200cنظرات و مساعدت\\u200cهای متخصصین مربوطه بهره بگیرند تا رسیدگی به این قبیل پرونده\\u200cها توام با سرعت و دقت و جامع\\u200cنگری باشد .\\nمسئولان قضایی مربوطه به ویژه دادستان\\u200cها به این مهم توجه داشته باشند که در قضیه احیای حقوق عامه ، ما نمی\\u200cتوانیم جایگزین دستگاه اجرایی شویم ؛ در مبحث حقوق عامه هرجا که برای ان متولی تعیین شده ، باید متولی را وادار به انجام وظیفه کنیم .\\nبرای مثال اگر در حوزه\\u200cای ، متولی مربوطه محیط زیست است و وظایف ان حوزه معطل مانده است ، ما باید به سراغ مسئول مربوطه برویم ؛ ما در دستگاه قضایی نباید همه جا متولی امر شویم بلکه باید متولیان امر را از مجرای قانونی وادار به انجام وظایف و مسئولیت\\u200cهای خود کنیم .\\nباید توجه داشت که همه ترک\\u200cفعل\\u200cها ، جرم تلقی نمی\\u200cشود ؛ البته ترک\\u200cفعل\\u200cهایی که ناشی از کوتاهی است در دایره « جرم » یا « ضمان » می\\u200cگنجند ، اما در مواردی نیز یک ترک\\u200cفعل نه ناشی از « نخواستن » بلکه ناشی از « نتوانستن » و امکان نداشتن محقق شدن ان تکلیف دستگاه مربوطه است .\\nبه طور کلی ما در این قضیه نیاز به اصلاح قانون داریم که این ماموریت به معاونت حقوقی داده شده است دادستانی کل کشور نیز در این خصوص کمک کند ، اما تا قبل از اصلاح قانون باید خودمان توجه کنیم که برخی عبارات و واژگان مبهم و دارای چندین مصداق را گسترش ندهیم .context 2: کد خبر :\\n613556\\n|\\n1402/02/29 15:24:28\\nاعتمادانلاین |\\nحجت\\u200cالاسلام والمسلمین محسنی اژه\\u200cای ، رییس قوه قضاییه طی سخنانی در بیست\\u200cوسومین همایش دادستان\\u200cهای عمومی و انقلاب ، نظامی و ویژه روحانیت سراسر کشور در مشهد مقدس ، با بیان اینکه دادستان\\u200cها در صف مقدم رسیدگی به مسائل کیفری هستند ، اظهار کرد : ما در جایگاهی حقوقی قرار داریم که می\\u200cتوانیم از طریق این جایگاه به نحو احسن به مردم ، نظام و کشور خدمت کنیم و در مسیر ارمان\\u200cهای والای انقلاب اسلامی و ستاندن حق مظلوم از ظالم ، گام برداریم .\\nبه گزارش میزان ، بخش هایی از اظهارات اژه ای را در ادامه می\\u200cخوانید :\\nباید بررسی کنیم که ایا در اموری نظیر ایجاد امنیت اعم از روانی و فیزیکی ، دفع شر و اشرار ، استیفای حق ، راست کردن کجی\\u200cها ، جلوگیری از ایجاد کجی\\u200cها و ... نقش\\u200cافرینی اثرگذار داشته\\u200cایم یا خیر ؟ اگر پاسخ منفی است باید ببینیم ضعف\\u200cها و نواقص کجاست و مجدانه در جهت رفع ان\\u200cها اقدام کنیم .\\xa0 هدف اصلی دشمنان مقابله با نظام اسلامی و ولایی ما است .\\nگاهی یک فرد گمراه و اهل ضلالت ، خود را در صف افراد مومن قرار می\\u200cدهد ؛ در این قبیل موارد باید نهایت هوشیاری و تدبیر را به خرج دهیم .\\nدشمنان برای پیشبرد توطئه\\u200cها و نقشه\\u200cهای خود روش\\u200cهای مختلفی را به کار می\\u200cبندند ؛ در برخی موارد ، راهبرد دشمن ایجاد اختلاف میان مردم و دوقطبی\\u200cسازی و چندقطبی\\u200cسازی در جامعه پیرامون یک سوژه است .\\nدر برخی موارد ، راهبرد دشمن ایجاد اختلاف میان مسئولان است ؛ در مواردی نیز راهبرد دشمن متمرکز بر ایجاد اختلاف میان مسئولان و مردم است ؛ حال سوال اساسی ان است که باید در مقابله با این راهبردهای دشمن ، چه تمهیدات و تدابیری را اتخاذ کرد ؟\\nما باید در وهله اول ، به بیانات امام و مقتدای خود توجه کرده و شرایط کشور را درک کنیم و بدانیم که مسئله اصلی و اولویت\\u200cدار کشور ، مسئله اقتصادی است ؛ چنانچه مشکلات اقتصادی مرتفع نشود به تبع ان ، مسائل و مشکلات فرهنگی و اجتماعی و امنیتی ایجاد می\\u200cگردد و به دنبال این امر ، بر حجم پرونده\\u200cهای قضایی نیز افزوده می\\u200cشود .\\nمتاسفانه شورای\\u200cعالی هماهنگی اقتصادی سران قوا با توجه به اختیارات و ظرفیت\\u200cهایی که داشت ، نتوانست به نحو مطلوبی عمل کند ؛ لذا باید نواقص و کاستی\\u200cهای موجود در امر تجمیع قوا و هماهنگی\\u200cها ، برای غلبه بر مسائل و مشکلات اقتصادی مرتفع گردد .\\nهمه مسئولان و دستگاه\\u200cهای ذی\\u200cربط کشور ، در امر غلبه بر مسائل و مشکلات اقتصادی باید با تمام قوا ورود داشته باشند ؛ ما نیز در قوه قضاییه ضروری است که بدانیم چه کارهایی را در رابطه با موضوع فوق\\u200cالذکر باید انجام دهیم و از چه کارهایی باید اجتناب کنیم ؛ باید همواره این سوال را از خود مطرح کنیم ایا امکان ان وجود ندارد که دشمن در بین خود ما اختلاف بیفکند ؟\\nدر مورد قوه قضاییه نقد ، اعتراض یا هجمه می\\u200cشود ، اعتراض و انتقاد گاهی در قالب نقد بر ضعفی است ؛ ما بارها اعلام کرده\\u200cایم که از نقد سازنده و خیرخواهانه استقبال کرده و درصدد رفع ضعف\\u200cها و کاستی\\u200cهای خود برمی\\u200cاییم ؛ اما گاهی هم هجمه\\u200cهایی که در قالب نقد علیه قوه قضاییه مطرح می\\u200cشود با واقعیت همخوانی ندارند و تحریف و تخریب محسوب می\\u200cشوند .\\nدر مواردی ، ضعف\\u200cها و مشکلات در دستگاه قضایی ناشی از اشکالات موجود در یک ساختار یا تشکیلات است ؛ تجربه نشان داده است که برای رفع این قبیل مشکلات باید به جای ایجاد ساختارها و تشکیلات موازی ، به تقویت ان ساختار و تشکیلات دارای اشکال و ضعف بپردازیم و با هم\\u200cافزایی و کمک یکدیگر در دستگاه قضایی ، بدون انکه ذره\\u200cای در فکر تضعیف یکدیگر باشیم به برطرف کردن نقاط ضعف مبادرت ورزیم .\\nبسیاری از مجازات\\u200cهای مقرر شده در قوانین ، تعزیری هستند و برای ان\\u200cها « اقل » و « اکثر » لحاظ شده است ؛ در این قبیل موارد ، دست قاضی باز است و می\\u200cتواند چنانچه مجازات « اقل » کارساز و بازدارنده نیست ، مجازات « اکثر » را اعمال کند ؛ در مواردی نیز به اقتضای شرایط و یا شایسته\\u200cی ارفاق بودن محکوم ، باید مجازات « اقل » را تجویز کرد .\\nاکنون که در سال 1402 قرار داریم ، مسئول قضایی ذیربط ما باید جمیع شرایط و اقتضائات را لحاظ کند و ضمن اهتمام کامل به موازین و اصول قانونی ، بداند که کجا و در قبال چه محکوم و جرمی باید از تاسیسات ارفاقی بهره بگیرد ؟ در چه مواردی حکم به جزای نقدی دهد ؟ این حکم به جزای نقدی دادن ، به چه صورت و کیفیت باشد که بازدارندگی ایجاد کند ؟ کدام دسته از محکومان می\\u200cتوانند مشمول عفو قرار گیرند و کدام دسته نمی\\u200cتوانند ؟\\nدادستان\\u200cهای سراسر کشور مقوله « تامین امنیت سرمایه\\u200cگذاری » و « حمایت از چرخه تولید و اشتغال » را مجدانه پیگیری کنند و با فعالان اقتصادی و تولیدی جلساتی را برگزار کرده و در صدد رفع مشکلات ان\\u200cها برایند ؛ همچنین در قبال ان دسته از فعالان اقتصادی و تولیدی که اتهامی متوجه ان\\u200cها می\\u200cشود ، نهایت تدبیر را به خرج دهند که در اثر این انتساب اتهام ، فعالیت تولیدی و اشتغالزایی ان\\u200cها مخدوش نشود ؛ شاید در همه موارد نیازی به ممنوع\\u200cالخروج و ممنوع\\u200cالمعامله کردن یک فرد متهم نباشد ؛ در همه موارد نیاز به صدور قرار بازداشت متهم نیست .\\nدادستان\\u200cها و مسئولان ذی\\u200cربط قضایی در رسیدگی و تکمیل پرونده\\u200cهای ناظر بر موضوعات اقتصادی و تولیدی از نقطه\\u200cنظرات و مساعدت\\u200cهای متخصصین مربوطه بهره بگیرند تا رسیدگی به این قبیل پرونده\\u200cها توام با سرعت و دقت و جامع\\u200cنگری باشد .\\nمسئولان قضایی مربوطه به ویژه دادستان\\u200cها به این مهم توجه داشته باشند که در قضیه احیای حقوق عامه ، ما نمی\\u200cتوانیم جایگزین دستگاه اجرایی شویم ؛ در مبحث حقوق عامه هرجا که برای ان متولی تعیین شده ، باید متولی را وادار به انجام وظیفه کنیم .\\nبرای مثال اگر در حوزه\\u200cای ، متولی مربوطه محیط زیست است و وظایف ان حوزه معطل مانده است ، ما باید به سراغ مسئول مربوطه برویم ؛ ما در دستگاه قضایی نباید همه جا متولی امر شویم بلکه باید متولیان امر را از مجرای قانونی وادار به انجام وظایف و مسئولیت\\u200cهای خود کنیم .\\nباید توجه داشت که همه ترک\\u200cفعل\\u200cها ، جرم تلقی نمی\\u200cشود ؛ البته ترک\\u200cفعل\\u200cهایی که ناشی از کوتاهی است در دایره « جرم » یا « ضمان » می\\u200cگنجند ، اما در مواردی نیز یک ترک\\u200cفعل نه ناشی از « نخواستن » بلکه ناشی از « نتوانستن » و امکان نداشتن محقق شدن ان تکلیف دستگاه مربوطه است .\\nبه طور کلی ما در این قضیه نیاز به اصلاح قانون داریم که این ماموریت به معاونت حقوقی داده شده است دادستانی کل کشور نیز در این خصوص کمک کند ، اما تا قبل از اصلاح قانون باید خودمان توجه کنیم که برخی عبارات و واژگان مبهم و دارای چندین مصداق را گسترش ندهیم .' additional_kwargs={} response_metadata={} name='retrieval' id='9403c33b-be28-41cd-970f-2658d863e479'\n",
            "content='قوه قضائیه در مورد فساد مالی اقدامات متعددی انجام داده است. از جمله این اقدامات می\\u200cتوان به تشکیل دادسراهای تخصصی برای رسیدگی به جرایم اقتصادی و مالی، افزایش نظارت بر دستگاه\\u200cهای دولتی و نهادهای عمومی، و پیگیری پرونده\\u200cهای فساد مالی اشاره کرد. همچنین، قوه قضائیه تلاش کرده است تا با همکاری سایر دستگاه\\u200cهای دولتی و نهادهای مربوطه، به مبارزه با فساد مالی و اقتصادی بپردازد و از این طریق به sécurité و استحکام اقتصادی کشور کمک کند.' additional_kwargs={} response_metadata={'token_usage': {'completion_tokens': 124, 'prompt_tokens': 3776, 'total_tokens': 3900, 'completion_time': 0.498872251, 'prompt_time': 0.274214611, 'queue_time': 0.100132047, 'total_time': 0.773086862}, 'model_name': 'llama-3.3-70b-versatile', 'system_fingerprint': 'fp_2ddfbb0da0', 'finish_reason': 'stop', 'logprobs': None} id='run--4727fddf-860a-4cad-98e0-29da04cae7d5-0' usage_metadata={'input_tokens': 3776, 'output_tokens': 124, 'total_tokens': 3900}\n",
            "content='دیگر به جز اینها چه اقداماتی انجام شده. بیشتر میتونی بهم بگی؟' additional_kwargs={} response_metadata={} id='f810a6ad-712a-46e2-907b-baef9eb7b1ea'\n",
            "content='rag' additional_kwargs={} response_metadata={'token_usage': {'completion_tokens': 2, 'prompt_tokens': 3936, 'total_tokens': 3938, 'completion_time': 0.016317195, 'prompt_time': 0.285421838, 'queue_time': 0.401767871, 'total_time': 0.301739033}, 'model_name': 'llama-3.3-70b-versatile', 'system_fingerprint': 'fp_2ddfbb0da0', 'finish_reason': 'stop', 'logprobs': None} id='run--1a2d3f0b-52bb-4874-87b2-af9f70a79d31-0' usage_metadata={'input_tokens': 3936, 'output_tokens': 2, 'total_tokens': 3938}\n",
            "content='context 1: context 2: ' additional_kwargs={} response_metadata={} name='retrieval' id='608ab39d-3d69-4d98-a480-e475a2cc0f4c'\n",
            "content='بله، قوه قضائیه در مورد فساد مالی اقدامات دیگری نیز انجام داده است. از جمله این اقدامات می\\u200cتوان به:\\n\\n1. تشکیل دادگاه\\u200cهای تخصصی برای رسیدگی به جرایم اقتصادی و مالی\\n2. افزایش نظارت بر دستگاه\\u200cهای دولتی و نهادهای عمومی\\n3. پیگیری پرونده\\u200cهای فساد مالی و اقتصادی\\n4. همکاری با سایر دستگاه\\u200cهای دولتی و نهادهای مربوطه برای مبارزه با فساد مالی و اقتصادی\\n5. ایجاد نظام نظارتی برای پیشگیری از فساد مالی و اقتصادی\\n6. آموزش و آگاهی\\u200cبخشی به کارکنان دستگاه\\u200cهای دولتی و نهادهای عمومی در مورد مبارزه با فساد مالی و اقتصادی\\n7. ایجاد نظام گزارش\\u200cدهی و شکایت از فساد مالی و اقتصادی\\n8. پیگیری و مجازات افراد و نهادهای متخلف در زمینه فساد مالی و اقتصادی\\n9. ایجاد نظام شفافیت و پاسخگویی در دستگاه\\u200cهای دولتی و نهادهای عمومی\\n10. همکاری با سازمان\\u200cهای بین\\u200cالمللی برای مبارزه با فساد مالی و اقتصادی\\n\\nهمچنین، قوه قضائیه تلاش کرده است تا با استفاده از فناوری\\u200cهای نوین، مبارزه با فساد مالی و اقتصادی را تقویت کند. از جمله این اقدامات می\\u200cتوان به:\\n\\n1. ایجاد سامانه\\u200cهای الکترونیکی برای گزارش\\u200cدهی و شکایت از فساد مالی و اقتصادی\\n2. استفاده از سیستم\\u200cهای هوشمند برای رصد و نظارت بر فعالیت\\u200cهای اقتصادی و مالی\\n3. ایجاد پایگاه\\u200cهای داده برای جمع\\u200cآوری و分析 اطلاعات در مورد فساد مالی و اقتصادی\\n\\nاین اقدامات نشان می\\u200cدهد که قوه قضائیه تلاش کرده است تا با استفاده از ابزارهای مختلف، مبارزه با فساد مالی و اقتصادی را تقویت کند و از این طریق به امنیت و استحکام اقتصادی کشور کمک کند.' additional_kwargs={} response_metadata={'token_usage': {'completion_tokens': 395, 'prompt_tokens': 3952, 'total_tokens': 4347, 'completion_time': 1.436363636, 'prompt_time': 0.286813746, 'queue_time': 0.405640506, 'total_time': 1.723177382}, 'model_name': 'llama-3.3-70b-versatile', 'system_fingerprint': 'fp_2ddfbb0da0', 'finish_reason': 'stop', 'logprobs': None} id='run--70eba24f-2acd-4087-90d2-eaa1d89a5f14-0' usage_metadata={'input_tokens': 3952, 'output_tokens': 395, 'total_tokens': 4347}\n",
            "content='ممنون' additional_kwargs={} response_metadata={} id='c8c441e1-928a-47c6-af96-f3f540e8c868'\n",
            "content='خواهش می\\u200cکنم! امیدوارم که اطلاعات مفیدی برایتان فراهم کرده باشم. اگر سوالی دیگر دارید، در خدمتم!' additional_kwargs={} response_metadata={'token_usage': {'completion_tokens': 33, 'prompt_tokens': 4364, 'total_tokens': 4397, 'completion_time': 0.174504696, 'prompt_time': 0.320991678, 'queue_time': 0.10820299, 'total_time': 0.495496374}, 'model_name': 'llama-3.3-70b-versatile', 'system_fingerprint': 'fp_2ddfbb0da0', 'finish_reason': 'stop', 'logprobs': None} id='run--e275f7b4-909b-4dd5-86d1-f72659ffce8d-0' usage_metadata={'input_tokens': 4364, 'output_tokens': 33, 'total_tokens': 4397}\n",
            "content='در مورد استعفای وزیر کشور میانمار که جدیدا اتفاق افتاده به من توضیح بده.' additional_kwargs={} response_metadata={} id='3e5ef770-52f4-4829-be5a-621dbd8c5c3f'\n",
            "content='rag' additional_kwargs={} response_metadata={'token_usage': {'completion_tokens': 2, 'prompt_tokens': 4428, 'total_tokens': 4430, 'completion_time': 0.015867673, 'prompt_time': 0.318807301, 'queue_time': 0.402121335, 'total_time': 0.334674974}, 'model_name': 'llama-3.3-70b-versatile', 'system_fingerprint': 'fp_2ddfbb0da0', 'finish_reason': 'stop', 'logprobs': None} id='run--67b9dcfd-9a5b-4568-b3ab-49bb1398cb03-0' usage_metadata={'input_tokens': 4428, 'output_tokens': 2, 'total_tokens': 4430}\n",
            "content='context 1: به گزارش خبرنگار حوزه دولت خبرگزاری تسنیم ، فاطمه مهاجرانی سخنگوی دولت در حاشیه جلسه امروز هیات وزیران در جمع خبرنگاران در واکنش به طرح استیضاح وزیر راه از سوی برخی نمایندگان ، بیان کرد : استیضاح حق مجلس است و همان اندازه که این حق مجلس است اما انتظار داریم از این ابزار به\\u200cعنوان ابزار سیاسی استفاده نشده و مانند وزارت اقتصاد که وزیر خود را از دست داد و به خوبی با سرپرست اداره می\\u200cشود ، امیدواریم تصمیمات حرفه\\u200cای دنبال شود . وی درباره معرفی وزیر پیشنهادی وزارت اقتصاد افزود : وزیر اقتصاد هم معرفی خواهد شد . سخنگوی دولت در پاسخ به سوالی درخصوص اطلاع\\u200cرسانی درمورد حادثه انفجار و اتش\\u200cسوزی در بندر شهید رجایی و برخی شایعات در خصوص سانسور اخبار این حادثه ، گفت : ما محرم\\u200cتر از مردم نداریم ، هیچ سانسوری در اخبار مربوط به این حادثه صورت نگرفته است . ما خود را موظف به شفاف\\u200cسازی می\\u200cدانیم ؛ اطلاع\\u200cرسانی درمورد حادثه نیز به صورت میدانی هم از سوی وزیر کشور صورت گرفته است و رییس ستاد بحران در منطقه انجام شده است و این روند ادامه دارد . مهاجرانی با تاکید بر اینکه باید اجازه دهیم کارهای کارشناسی انجام گیرد ، افزود : با همه کسانی که قصور احتمالی در وقوع این حادثه داشته باشند برخورد خواهد شد ، اما باید اجازه دهیم گزارش کارشناسی اعلام شود و بدانید که هیچ دلیلی برای اینکه بخواهیم واقعیت را از مردم پنهان کنیم وجود ندارد . وی در بخش دیگری از صحبت\\u200cهای خود به امار کشته شدگان حادثه بندر عباس اشاره کرد و افزود : از مردم ایران محرم\\u200cتر نداریم و دلیلی برای پنهان کردن واقعیت وجود ندارد ، امار کشته شدگان و مفقودان تا کنون 70 نفر است و اگر به شرایط پایداری صورت گیرد حتما رسانه\\u200cها را به محل حادثه خواهیم برد . سخنگوی دولت درباره علت عدم جرم انگاری فروش سیگار به افراد زیر 18 سال ، گفت : دادگستری متولی اصلی این موضوع است و این مجموعه نیز در حال کار کارشناسی بر روی موضوع هستند . انچه مسلم است ، باید به گونه\\u200cای نسبت به تعریف جرم اقدام کنیم که اگر فرد مجرم شد بتوانیم با او برخورد کنیم چون این نکته که جرم را به گونه\\u200cای وسیع تعریف کنیم که بعد نتوانیم با مجرم برخورد کنیم موجب بی اعتبار شدن قانون خواهد شد . مهاجرانی با اشاره به تصمیم دولت مبنی بر ممنوعیت احداث پتروشیمی میانکاله ، گفت : دولت تصمیمات لازم را اتخاذ کرده است ؛ وزارت جهاد کشاورزی مکلف به پس گرفتن زمین\\u200cها و برگرداندن ان به اراضی ملی شده است و مراحل کار در حال انجام است . وی گفت : دولت از موعد مقرر که قانون برای معرفی وزیر جدید اقتصاد مشخص کرده استفاده خواهد کرد ، دولت هیچ عجله\\u200cای در اینکه بخواهد کار را از دست سرپرست فعلی اقتصاد بگیرد ندارد چون معتقدیم ایشان خوب دارد کار خودش را پیش می\\u200cبرد لذا با حوصله و سر فرصت و مقرر این کار انجام خواهد شد . سخنگوی دولت همچنین درباره تصویب لوایح پالرمو و cft، ابراز امیدواری کرد که این لوایح اخرین هفته بررسی در مجمع تشخیص را از سر بگذرانند . مهاجرانی با ابراز تسلیت برای حادثه تلخ بندر شهید رجایی و ارزوی سلامتی برای همه اسیب\\u200cدیدگان ، گفت : در جلسه هیات دولت امروز ، گزارشی از وقایع هرمزگان و نحوه مدیریت ان توسط وزارت کشور و وزارت راه ارائه شد . وی بیان کرد : در این جلسه ، موضوع رسوب کالاها تا حدود 18 سال در گمرک نیز مطرح شد و رییس جمهور دستور دادند که این موضوع با دقت بررسی شده ، فرایندها بازبینی شوند و علت وقوع چنین اتفاقی مشخص شود . سخنگوی دولت خاطرنشان کرد : نکته\\u200cای که وزیر بهداشت در این زمینه مطرح کردند این بود که با توجه به استقرار تیم\\u200cهای حرفه\\u200cای بهداشت محیط در منطقه و با در نظر گرفتن دود و گاز ناشی از حادثه در منطقه اعلام شد که هیچ\\u200cگونه الودگی شیمیایی و محیطی در مناطق مسکونی وجود ندارد با این حال ، تاکید شد که افراد برای ورود به منطقه حادثه باید از ماسک\\u200cهای مخصوص استفاده کنند . مهاجرانی اظهار داشت : نکته دیگری که رییس جمهور دستور دادند ، رسیدگی به وضعیت خانواده\\u200cهای اسیب\\u200cدیدگان توسط اقای دکتر میدری بود ، ایشان مامور شدند تا وضعیت این افراد را بررسی کرده و خسارت\\u200cهای وارده جبران شود . وی با قدردانی از تمام کشورهایی که در این حادثه ناگوار همدرد ایران بودند ، گفت : به ویژه از کشور روسیه که با ارسال هواپیماهای خود در لکه\\u200cگیری اتش کمک کرد ، سپاسگزاریم . مقرر شد استاندار هرمزگان اطلاعات کامل تمام خانوارهای اسیب\\u200cدیده نه فقط خانواده متوفیان را جمع\\u200cاوری و در اختیار قرار دهد تا بتوان خدمات لازم را به این عزیزان ارائه کرد . سخنگوی دولت یاداور شد : اغاز به\\u200cکار بندر پس از روز حادثه از دیگر نکات مهم بود . با وجود اسیب دیدن بخشی از بندر ، فعالیت ان ادامه دارد و گمرک نیز به شدت فعال است و هیچ مشکلی در این زمینه وجود ندارد . مهاجرانی در پاسخ به نگرانی\\u200cهای مطرح\\u200cشده درباره کالاهای اساسی ، خاطرنشان کرد : هیچ\\u200cکدام از محموله\\u200cهای شرکت بازرگانی دولتی دچار اسیب نشده\\u200cاند . اما در عین حال شرکت\\u200cها و سازمان\\u200cهای متولی به زیرمجموعه\\u200cهای خود فراخوان داده\\u200cاند تا هرگونه خسارت وارده را اعلام کنند . وزارت صنعت ، معدن و تجارت ، وزارت جهاد کشاورزی ، و وزارت بهداشت و درمان ، از جمله مجموعه\\u200cهایی هستند که شرکت\\u200cهای تابعه انها مشمول این فراخوان می\\u200cشوند . وی افزود : موضوع مهمی که امروز مطرح شد ، تخصیص مجدد ارز به شرکت\\u200cهای اسیب\\u200cدیده در حادثه اخیر است . این تخصیص توسط بانک مرکزی انجام می\\u200cشود ، اما تشخیص و تخصیص و اولویت\\u200cبندی شرکت\\u200cها بر عهده وزارت صنعت ، معدن و تجارت خواهد بود . سخنگوی دولت هم\\u200cچنین در پاسخ به سوالی درباره اینکه ایا مدنی\\u200cزاده هم از گزینه\\u200cهای وزارت اقتصاد است ؟ گفت : بله او هم از گزینه\\u200cهاست ؛ دولت در حال بررسی گزینه\\u200cهاست .context 2: به گزارش خبرنگار حوزه دولت خبرگزاری تسنیم ، فاطمه مهاجرانی سخنگوی دولت در حاشیه جلسه امروز هیات وزیران در جمع خبرنگاران در واکنش به طرح استیضاح وزیر راه از سوی برخی نمایندگان ، بیان کرد : استیضاح حق مجلس است و همان اندازه که این حق مجلس است اما انتظار داریم از این ابزار به\\u200cعنوان ابزار سیاسی استفاده نشده و مانند وزارت اقتصاد که وزیر خود را از دست داد و به خوبی با سرپرست اداره می\\u200cشود ، امیدواریم تصمیمات حرفه\\u200cای دنبال شود . وی درباره معرفی وزیر پیشنهادی وزارت اقتصاد افزود : وزیر اقتصاد هم معرفی خواهد شد . سخنگوی دولت در پاسخ به سوالی درخصوص اطلاع\\u200cرسانی درمورد حادثه انفجار و اتش\\u200cسوزی در بندر شهید رجایی و برخی شایعات در خصوص سانسور اخبار این حادثه ، گفت : ما محرم\\u200cتر از مردم نداریم ، هیچ سانسوری در اخبار مربوط به این حادثه صورت نگرفته است . ما خود را موظف به شفاف\\u200cسازی می\\u200cدانیم ؛ اطلاع\\u200cرسانی درمورد حادثه نیز به صورت میدانی هم از سوی وزیر کشور صورت گرفته است و رییس ستاد بحران در منطقه انجام شده است و این روند ادامه دارد . مهاجرانی با تاکید بر اینکه باید اجازه دهیم کارهای کارشناسی انجام گیرد ، افزود : با همه کسانی که قصور احتمالی در وقوع این حادثه داشته باشند برخورد خواهد شد ، اما باید اجازه دهیم گزارش کارشناسی اعلام شود و بدانید که هیچ دلیلی برای اینکه بخواهیم واقعیت را از مردم پنهان کنیم وجود ندارد . وی در بخش دیگری از صحبت\\u200cهای خود به امار کشته شدگان حادثه بندر عباس اشاره کرد و افزود : از مردم ایران محرم\\u200cتر نداریم و دلیلی برای پنهان کردن واقعیت وجود ندارد ، امار کشته شدگان و مفقودان تا کنون 70 نفر است و اگر به شرایط پایداری صورت گیرد حتما رسانه\\u200cها را به محل حادثه خواهیم برد . سخنگوی دولت درباره علت عدم جرم انگاری فروش سیگار به افراد زیر 18 سال ، گفت : دادگستری متولی اصلی این موضوع است و این مجموعه نیز در حال کار کارشناسی بر روی موضوع هستند . انچه مسلم است ، باید به گونه\\u200cای نسبت به تعریف جرم اقدام کنیم که اگر فرد مجرم شد بتوانیم با او برخورد کنیم چون این نکته که جرم را به گونه\\u200cای وسیع تعریف کنیم که بعد نتوانیم با مجرم برخورد کنیم موجب بی اعتبار شدن قانون خواهد شد . مهاجرانی با اشاره به تصمیم دولت مبنی بر ممنوعیت احداث پتروشیمی میانکاله ، گفت : دولت تصمیمات لازم را اتخاذ کرده است ؛ وزارت جهاد کشاورزی مکلف به پس گرفتن زمین\\u200cها و برگرداندن ان به اراضی ملی شده است و مراحل کار در حال انجام است . وی گفت : دولت از موعد مقرر که قانون برای معرفی وزیر جدید اقتصاد مشخص کرده استفاده خواهد کرد ، دولت هیچ عجله\\u200cای در اینکه بخواهد کار را از دست سرپرست فعلی اقتصاد بگیرد ندارد چون معتقدیم ایشان خوب دارد کار خودش را پیش می\\u200cبرد لذا با حوصله و سر فرصت و مقرر این کار انجام خواهد شد . سخنگوی دولت همچنین درباره تصویب لوایح پالرمو و cft، ابراز امیدواری کرد که این لوایح اخرین هفته بررسی در مجمع تشخیص را از سر بگذرانند . مهاجرانی با ابراز تسلیت برای حادثه تلخ بندر شهید رجایی و ارزوی سلامتی برای همه اسیب\\u200cدیدگان ، گفت : در جلسه هیات دولت امروز ، گزارشی از وقایع هرمزگان و نحوه مدیریت ان توسط وزارت کشور و وزارت راه ارائه شد . وی بیان کرد : در این جلسه ، موضوع رسوب کالاها تا حدود 18 سال در گمرک نیز مطرح شد و رییس جمهور دستور دادند که این موضوع با دقت بررسی شده ، فرایندها بازبینی شوند و علت وقوع چنین اتفاقی مشخص شود . سخنگوی دولت خاطرنشان کرد : نکته\\u200cای که وزیر بهداشت در این زمینه مطرح کردند این بود که با توجه به استقرار تیم\\u200cهای حرفه\\u200cای بهداشت محیط در منطقه و با در نظر گرفتن دود و گاز ناشی از حادثه در منطقه اعلام شد که هیچ\\u200cگونه الودگی شیمیایی و محیطی در مناطق مسکونی وجود ندارد با این حال ، تاکید شد که افراد برای ورود به منطقه حادثه باید از ماسک\\u200cهای مخصوص استفاده کنند . مهاجرانی اظهار داشت : نکته دیگری که رییس جمهور دستور دادند ، رسیدگی به وضعیت خانواده\\u200cهای اسیب\\u200cدیدگان توسط اقای دکتر میدری بود ، ایشان مامور شدند تا وضعیت این افراد را بررسی کرده و خسارت\\u200cهای وارده جبران شود . وی با قدردانی از تمام کشورهایی که در این حادثه ناگوار همدرد ایران بودند ، گفت : به ویژه از کشور روسیه که با ارسال هواپیماهای خود در لکه\\u200cگیری اتش کمک کرد ، سپاسگزاریم . مقرر شد استاندار هرمزگان اطلاعات کامل تمام خانوارهای اسیب\\u200cدیده نه فقط خانواده متوفیان را جمع\\u200cاوری و در اختیار قرار دهد تا بتوان خدمات لازم را به این عزیزان ارائه کرد . سخنگوی دولت یاداور شد : اغاز به\\u200cکار بندر پس از روز حادثه از دیگر نکات مهم بود . با وجود اسیب دیدن بخشی از بندر ، فعالیت ان ادامه دارد و گمرک نیز به شدت فعال است و هیچ مشکلی در این زمینه وجود ندارد . مهاجرانی در پاسخ به نگرانی\\u200cهای مطرح\\u200cشده درباره کالاهای اساسی ، خاطرنشان کرد : هیچ\\u200cکدام از محموله\\u200cهای شرکت بازرگانی دولتی دچار اسیب نشده\\u200cاند . اما در عین حال شرکت\\u200cها و سازمان\\u200cهای متولی به زیرمجموعه\\u200cهای خود فراخوان داده\\u200cاند تا هرگونه خسارت وارده را اعلام کنند . وزارت صنعت ، معدن و تجارت ، وزارت جهاد کشاورزی ، و وزارت بهداشت و درمان ، از جمله مجموعه\\u200cهایی هستند که شرکت\\u200cهای تابعه انها مشمول این فراخوان می\\u200cشوند . وی افزود : موضوع مهمی که امروز مطرح شد ، تخصیص مجدد ارز به شرکت\\u200cهای اسیب\\u200cدیده در حادثه اخیر است . این تخصیص توسط بانک مرکزی انجام می\\u200cشود ، اما تشخیص و تخصیص و اولویت\\u200cبندی شرکت\\u200cها بر عهده وزارت صنعت ، معدن و تجارت خواهد بود . سخنگوی دولت هم\\u200cچنین در پاسخ به سوالی درباره اینکه ایا مدنی\\u200cزاده هم از گزینه\\u200cهای وزارت اقتصاد است ؟ گفت : بله او هم از گزینه\\u200cهاست ؛ دولت در حال بررسی گزینه\\u200cهاست .' additional_kwargs={} response_metadata={} name='retrieval' id='9818096a-245e-429e-bc35-45cf13792bd2'\n",
            "content='من یک دستیار هوش مصنوعی هستم و بر اساس اطلاعاتی که در اختیار من گذاشته\\u200cشده است، در حال حاضر جواب دقیقی برای پرسش شما ندارم.' additional_kwargs={} response_metadata={'token_usage': {'completion_tokens': 41, 'prompt_tokens': 7373, 'total_tokens': 7414, 'completion_time': 0.149090909, 'prompt_time': 0.595845649, 'queue_time': 0.597383321, 'total_time': 0.744936558}, 'model_name': 'llama-3.3-70b-versatile', 'system_fingerprint': 'fp_3f3b593e33', 'finish_reason': 'stop', 'logprobs': None} id='run--6ced35c1-f28a-421b-bbc5-078007cd08eb-0' usage_metadata={'input_tokens': 7373, 'output_tokens': 41, 'total_tokens': 7414}\n"
          ]
        }
      ]
    },
    {
      "cell_type": "markdown",
      "source": [
        "یقینا این سیستم بی‌نقص نیست و صرفا به عنوان یک دمو برای بررسی طراحی شده\n",
        "\n",
        "مثلا اگر چت زیاد ادامه پیدا کند، کانتکست مدل زبانی تمام می‌شود یا سرعت پاسخگویی\n",
        "رفته رفته کمتر می‌شود\n",
        "\n",
        "در تاریخچه می‌توان گفتگوهای غیرضروری را بعد از چند مرحله حذف کرد یا مسائل کلیدی را خلاصه کرد تا طول پرامپت رفته رفته خیلی زیاد نشود\n",
        "\n",
        "قسمت‌های مختلف سیستم را می‌توان بهینه‌تر کرد، مثلا تصمیم گیری اینکه باید از بازیابی اطلاعات استفاده شود یا نه را می‌توان توسط یک مدل کم‌هزینه رمزگذار ریزتنظیم‌شده انجام داد، زیرا یک تسک دسته‌بندی سرراست است و برای پرامپت‌های معمول و رندم مانند سلام یا تشکر، از پاسخ‌های ازپیش‌تعیین‌شده استفاده کرد و اصلا از مدل‌زبانی بزرگ استفاده نکرد\n",
        "\n",
        "تعداد فایل خبری بازیابی شده یا چانک‌کردن یا این قبیل مسائل هم می‌توانند با\n",
        "آزمون و خطلا بهینه‌تر شوند\n",
        "\n",
        "مورد دیگر در انتقال پرامپت به سیستم بازیابی است. در این سیستم به صورت خیلی ساده، عین سوال کاربر را به سیستم بازیابی می‌دهیم و 2 فایل بسیار مشابه را بازیابی می‌کنیم. میتوان به سیستم بازیابی به عنوان یک ابزار نگاه کرد که ورودی آن توسط مدل‌زبانی یک بار بازنویسی می‌شود و مثلا از حالت سوالی خارج می‌شود تا بهتر در سیستم بازیابی مشابهت‌یابی شود\n",
        "\n",
        "به موارد این چنینی بسیار زیادی می‌توان فکر کرد"
      ],
      "metadata": {
        "id": "JoMXhhCtMHEM"
      }
    }
  ]
}